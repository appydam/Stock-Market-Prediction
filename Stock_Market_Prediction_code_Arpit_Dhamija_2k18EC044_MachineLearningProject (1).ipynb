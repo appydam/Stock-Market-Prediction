{
  "nbformat": 4,
  "nbformat_minor": 0,
  "metadata": {
    "kernelspec": {
      "display_name": "Python 3",
      "language": "python",
      "name": "python3"
    },
    "language_info": {
      "codemirror_mode": {
        "name": "ipython",
        "version": 3
      },
      "file_extension": ".py",
      "mimetype": "text/x-python",
      "name": "python",
      "nbconvert_exporter": "python",
      "pygments_lexer": "ipython3",
      "version": "3.7.6"
    },
    "colab": {
      "name": "maruti_stockPrice_LSTM_____1.ipynb",
      "provenance": [],
      "collapsed_sections": [],
      "toc_visible": true
    },
    "accelerator": "GPU"
  },
  "cells": [
    {
      "cell_type": "markdown",
      "metadata": {
        "id": "B9Uvfq6IqIbN"
      },
      "source": [
        "## Part-1 Data Preprocessing"
      ]
    },
    {
      "cell_type": "markdown",
      "metadata": {
        "id": "HOoKXGpnaC7f"
      },
      "source": [
        "Importing Liibraries\n"
      ]
    },
    {
      "cell_type": "code",
      "metadata": {
        "id": "UxcRsDhRNAN2"
      },
      "source": [
        "import numpy as np\n",
        "import matplotlib.pyplot as plt\n",
        "import pandas as pd\n"
      ],
      "execution_count": 233,
      "outputs": []
    },
    {
      "cell_type": "markdown",
      "metadata": {
        "id": "F8jyel-YaKel"
      },
      "source": [
        "Importing dataset and creating training set(stocks till september 2020)"
      ]
    },
    {
      "cell_type": "code",
      "metadata": {
        "id": "aprtcxkuNAN6",
        "colab": {
          "base_uri": "https://localhost:8080/",
          "height": 296
        },
        "outputId": "d8a4070f-44d4-47f4-994f-6ed57c1dc8ef"
      },
      "source": [
        "dataset = pd.read_csv('MARUTI.csv')\n",
        "training_set = dataset.iloc[0:4284, 8:9].values   # till 31st august, test set me september ka month hoga\n",
        "\n",
        "dataset.head()"
      ],
      "execution_count": 234,
      "outputs": [
        {
          "output_type": "execute_result",
          "data": {
            "text/html": [
              "<div>\n",
              "<style scoped>\n",
              "    .dataframe tbody tr th:only-of-type {\n",
              "        vertical-align: middle;\n",
              "    }\n",
              "\n",
              "    .dataframe tbody tr th {\n",
              "        vertical-align: top;\n",
              "    }\n",
              "\n",
              "    .dataframe thead th {\n",
              "        text-align: right;\n",
              "    }\n",
              "</style>\n",
              "<table border=\"1\" class=\"dataframe\">\n",
              "  <thead>\n",
              "    <tr style=\"text-align: right;\">\n",
              "      <th></th>\n",
              "      <th>Date</th>\n",
              "      <th>Symbol</th>\n",
              "      <th>Series</th>\n",
              "      <th>Prev Close</th>\n",
              "      <th>Open</th>\n",
              "      <th>High</th>\n",
              "      <th>Low</th>\n",
              "      <th>Last</th>\n",
              "      <th>Close</th>\n",
              "      <th>VWAP</th>\n",
              "      <th>Volume</th>\n",
              "      <th>Turnover</th>\n",
              "      <th>Trades</th>\n",
              "      <th>Deliverable Volume</th>\n",
              "      <th>%Deliverble</th>\n",
              "    </tr>\n",
              "  </thead>\n",
              "  <tbody>\n",
              "    <tr>\n",
              "      <th>0</th>\n",
              "      <td>2003-07-09</td>\n",
              "      <td>MARUTI</td>\n",
              "      <td>EQ</td>\n",
              "      <td>125.00</td>\n",
              "      <td>164.90</td>\n",
              "      <td>170.40</td>\n",
              "      <td>155.00</td>\n",
              "      <td>164.0</td>\n",
              "      <td>164.30</td>\n",
              "      <td>165.95</td>\n",
              "      <td>35164283</td>\n",
              "      <td>5.835528e+14</td>\n",
              "      <td>NaN</td>\n",
              "      <td>8537695.0</td>\n",
              "      <td>0.2428</td>\n",
              "    </tr>\n",
              "    <tr>\n",
              "      <th>1</th>\n",
              "      <td>2003-07-10</td>\n",
              "      <td>MARUTI</td>\n",
              "      <td>EQ</td>\n",
              "      <td>164.30</td>\n",
              "      <td>167.00</td>\n",
              "      <td>168.70</td>\n",
              "      <td>164.50</td>\n",
              "      <td>167.0</td>\n",
              "      <td>167.00</td>\n",
              "      <td>166.74</td>\n",
              "      <td>10464179</td>\n",
              "      <td>1.744820e+14</td>\n",
              "      <td>NaN</td>\n",
              "      <td>4363947.0</td>\n",
              "      <td>0.4170</td>\n",
              "    </tr>\n",
              "    <tr>\n",
              "      <th>2</th>\n",
              "      <td>2003-07-11</td>\n",
              "      <td>MARUTI</td>\n",
              "      <td>EQ</td>\n",
              "      <td>167.00</td>\n",
              "      <td>167.75</td>\n",
              "      <td>174.85</td>\n",
              "      <td>166.25</td>\n",
              "      <td>173.6</td>\n",
              "      <td>173.35</td>\n",
              "      <td>172.45</td>\n",
              "      <td>11740117</td>\n",
              "      <td>2.024622e+14</td>\n",
              "      <td>NaN</td>\n",
              "      <td>3014852.0</td>\n",
              "      <td>0.2568</td>\n",
              "    </tr>\n",
              "    <tr>\n",
              "      <th>3</th>\n",
              "      <td>2003-07-14</td>\n",
              "      <td>MARUTI</td>\n",
              "      <td>EQ</td>\n",
              "      <td>173.35</td>\n",
              "      <td>174.25</td>\n",
              "      <td>179.25</td>\n",
              "      <td>174.25</td>\n",
              "      <td>178.6</td>\n",
              "      <td>177.95</td>\n",
              "      <td>177.91</td>\n",
              "      <td>5982324</td>\n",
              "      <td>1.064313e+14</td>\n",
              "      <td>NaN</td>\n",
              "      <td>1949217.0</td>\n",
              "      <td>0.3258</td>\n",
              "    </tr>\n",
              "    <tr>\n",
              "      <th>4</th>\n",
              "      <td>2003-07-15</td>\n",
              "      <td>MARUTI</td>\n",
              "      <td>EQ</td>\n",
              "      <td>177.95</td>\n",
              "      <td>200.00</td>\n",
              "      <td>200.00</td>\n",
              "      <td>173.00</td>\n",
              "      <td>176.3</td>\n",
              "      <td>176.20</td>\n",
              "      <td>176.88</td>\n",
              "      <td>6173689</td>\n",
              "      <td>1.092001e+14</td>\n",
              "      <td>NaN</td>\n",
              "      <td>1307694.0</td>\n",
              "      <td>0.2118</td>\n",
              "    </tr>\n",
              "  </tbody>\n",
              "</table>\n",
              "</div>"
            ],
            "text/plain": [
              "         Date  Symbol Series  ...  Trades  Deliverable Volume  %Deliverble\n",
              "0  2003-07-09  MARUTI     EQ  ...     NaN           8537695.0       0.2428\n",
              "1  2003-07-10  MARUTI     EQ  ...     NaN           4363947.0       0.4170\n",
              "2  2003-07-11  MARUTI     EQ  ...     NaN           3014852.0       0.2568\n",
              "3  2003-07-14  MARUTI     EQ  ...     NaN           1949217.0       0.3258\n",
              "4  2003-07-15  MARUTI     EQ  ...     NaN           1307694.0       0.2118\n",
              "\n",
              "[5 rows x 15 columns]"
            ]
          },
          "metadata": {
            "tags": []
          },
          "execution_count": 234
        }
      ]
    },
    {
      "cell_type": "code",
      "metadata": {
        "id": "hqpRVF-RQwPc"
      },
      "source": [
        "plt.style.use(\"seaborn-talk\")"
      ],
      "execution_count": 235,
      "outputs": []
    },
    {
      "cell_type": "code",
      "metadata": {
        "id": "k78PU5D6NAN9",
        "colab": {
          "base_uri": "https://localhost:8080/"
        },
        "outputId": "378662ba-d9d0-44b7-e4e9-bfc40a4df88b"
      },
      "source": [
        "training_set"
      ],
      "execution_count": 236,
      "outputs": [
        {
          "output_type": "execute_result",
          "data": {
            "text/plain": [
              "array([[ 164.3 ],\n",
              "       [ 167.  ],\n",
              "       [ 173.35],\n",
              "       ...,\n",
              "       [6703.  ],\n",
              "       [6742.75],\n",
              "       [6743.45]])"
            ]
          },
          "metadata": {
            "tags": []
          },
          "execution_count": 236
        }
      ]
    },
    {
      "cell_type": "code",
      "metadata": {
        "id": "WlOX2kmXNAN_",
        "colab": {
          "base_uri": "https://localhost:8080/",
          "height": 462
        },
        "outputId": "4afb168c-cc24-4df9-816b-3289c1e19a93"
      },
      "source": [
        "# plot of training set\n",
        "plt.plot(training_set)"
      ],
      "execution_count": 237,
      "outputs": [
        {
          "output_type": "execute_result",
          "data": {
            "text/plain": [
              "[<matplotlib.lines.Line2D at 0x7f669af05898>]"
            ]
          },
          "metadata": {
            "tags": []
          },
          "execution_count": 237
        },
        {
          "output_type": "display_data",
          "data": {
            "image/png": "[encoded data removed]",
            "text/plain": [
              "<Figure size 748.8x514.8 with 1 Axes>"
            ]
          },
          "metadata": {
            "tags": [],
            "needs_background": "light"
          }
        }
      ]
    },
    {
      "cell_type": "code",
      "metadata": {
        "id": "_wjJ9hnXaXzm",
        "colab": {
          "base_uri": "https://localhost:8080/",
          "height": 462
        },
        "outputId": "f56fe71c-98ec-460f-e2b6-9bb7f20c7b7b"
      },
      "source": [
        "# plot of the dataset (stocks till october 2020)\n",
        "plt.plot(dataset.iloc[:,8:9].values)"
      ],
      "execution_count": 238,
      "outputs": [
        {
          "output_type": "execute_result",
          "data": {
            "text/plain": [
              "[<matplotlib.lines.Line2D at 0x7f669aee56a0>]"
            ]
          },
          "metadata": {
            "tags": []
          },
          "execution_count": 238
        },
        {
          "output_type": "display_data",
          "data": {
            "image/png": "[encoded data removed]",
            "text/plain": [
              "<Figure size 748.8x514.8 with 1 Axes>"
            ]
          },
          "metadata": {
            "tags": [],
            "needs_background": "light"
          }
        }
      ]
    },
    {
      "cell_type": "code",
      "metadata": {
        "id": "KiMWmKuEOccX"
      },
      "source": [
        "plt.style.use(\"seaborn-talk\")"
      ],
      "execution_count": 239,
      "outputs": []
    },
    {
      "cell_type": "code",
      "metadata": {
        "id": "8krPX-PHOmuP",
        "colab": {
          "base_uri": "https://localhost:8080/",
          "height": 462
        },
        "outputId": "618994f6-baf6-4b9c-f2a4-57a84df12ef2"
      },
      "source": [
        "plt.plot(training_set, c='b')"
      ],
      "execution_count": 240,
      "outputs": [
        {
          "output_type": "execute_result",
          "data": {
            "text/plain": [
              "[<matplotlib.lines.Line2D at 0x7f669ae3be80>]"
            ]
          },
          "metadata": {
            "tags": []
          },
          "execution_count": 240
        },
        {
          "output_type": "display_data",
          "data": {
            "image/png": "[encoded data removed]",
            "text/plain": [
              "<Figure size 748.8x514.8 with 1 Axes>"
            ]
          },
          "metadata": {
            "tags": [],
            "needs_background": "light"
          }
        }
      ]
    },
    {
      "cell_type": "markdown",
      "metadata": {
        "id": "vT4MhdEVbK2Y"
      },
      "source": [
        "Creating Test set (stocks of *October* 2020)"
      ]
    },
    {
      "cell_type": "code",
      "metadata": {
        "id": "XY9PgqG1NAOB"
      },
      "source": [
        "testing_set = dataset.iloc[4284:, 8:9].values"
      ],
      "execution_count": 241,
      "outputs": []
    },
    {
      "cell_type": "code",
      "metadata": {
        "id": "D38PjMvgNAOE",
        "colab": {
          "base_uri": "https://localhost:8080/"
        },
        "outputId": "08e6bf7f-801b-45ee-a401-61fb4234fe75"
      },
      "source": [
        "testing_set"
      ],
      "execution_count": 242,
      "outputs": [
        {
          "output_type": "execute_result",
          "data": {
            "text/plain": [
              "array([[6796.3 ],\n",
              "       [6818.85],\n",
              "       [6892.4 ],\n",
              "       [7046.9 ],\n",
              "       [7079.85],\n",
              "       [7062.4 ],\n",
              "       [7136.65],\n",
              "       [7032.9 ],\n",
              "       [7002.35],\n",
              "       [6892.6 ],\n",
              "       [6894.9 ],\n",
              "       [6851.95],\n",
              "       [6844.6 ],\n",
              "       [6861.85],\n",
              "       [6811.55],\n",
              "       [7103.25],\n",
              "       [7054.8 ],\n",
              "       [7158.4 ],\n",
              "       [7186.05],\n",
              "       [7117.7 ],\n",
              "       [6965.15]])"
            ]
          },
          "metadata": {
            "tags": []
          },
          "execution_count": 242
        }
      ]
    },
    {
      "cell_type": "code",
      "metadata": {
        "id": "vM5rnnWzNAOG",
        "colab": {
          "base_uri": "https://localhost:8080/"
        },
        "outputId": "37707559-0b9c-4517-fbac-7f6335e07149"
      },
      "source": [
        "testing_set.shape      # 21 trading days in october"
      ],
      "execution_count": 243,
      "outputs": [
        {
          "output_type": "execute_result",
          "data": {
            "text/plain": [
              "(21, 1)"
            ]
          },
          "metadata": {
            "tags": []
          },
          "execution_count": 243
        }
      ]
    },
    {
      "cell_type": "code",
      "metadata": {
        "id": "qrhgH8PuNAOJ",
        "colab": {
          "base_uri": "https://localhost:8080/",
          "height": 462
        },
        "outputId": "1b2fe6da-52a0-48ae-c742-920e563ff8e2"
      },
      "source": [
        "#ploting the test Set (october 2020)\n",
        "plt.plot(testing_set)"
      ],
      "execution_count": 244,
      "outputs": [
        {
          "output_type": "execute_result",
          "data": {
            "text/plain": [
              "[<matplotlib.lines.Line2D at 0x7f669ae22ac8>]"
            ]
          },
          "metadata": {
            "tags": []
          },
          "execution_count": 244
        },
        {
          "output_type": "display_data",
          "data": {
            "image/png": "[encoded data removed]",
            "text/plain": [
              "<Figure size 748.8x514.8 with 1 Axes>"
            ]
          },
          "metadata": {
            "tags": [],
            "needs_background": "light"
          }
        }
      ]
    },
    {
      "cell_type": "code",
      "metadata": {
        "id": "pWIolGDqNAOL",
        "colab": {
          "base_uri": "https://localhost:8080/"
        },
        "outputId": "5d421530-b8df-4841-c1cc-d54b854632f3"
      },
      "source": [
        "training_set.shape"
      ],
      "execution_count": 245,
      "outputs": [
        {
          "output_type": "execute_result",
          "data": {
            "text/plain": [
              "(4284, 1)"
            ]
          },
          "metadata": {
            "tags": []
          },
          "execution_count": 245
        }
      ]
    },
    {
      "cell_type": "code",
      "metadata": {
        "id": "UKVZWa_jNAON",
        "colab": {
          "base_uri": "https://localhost:8080/"
        },
        "outputId": "9939f75e-5f62-41e2-94f9-89178f245539"
      },
      "source": [
        "testing_set.shape"
      ],
      "execution_count": 246,
      "outputs": [
        {
          "output_type": "execute_result",
          "data": {
            "text/plain": [
              "(21, 1)"
            ]
          },
          "metadata": {
            "tags": []
          },
          "execution_count": 246
        }
      ]
    },
    {
      "cell_type": "markdown",
      "metadata": {
        "id": "HDLzgFhUpMSU"
      },
      "source": [
        "## Checking for Missing data"
      ]
    },
    {
      "cell_type": "markdown",
      "metadata": {
        "id": "9QIJLKgmpYkm"
      },
      "source": [
        "\n",
        "- Identify missing data in dataframes\n",
        "- Treat (delete or impute) missing values if found"
      ]
    },
    {
      "cell_type": "code",
      "metadata": {
        "id": "rRPRWTpMpWNF",
        "colab": {
          "base_uri": "https://localhost:8080/"
        },
        "outputId": "ad4eaef0-7d32-4a52-f641-835ea5087adb"
      },
      "source": [
        "print(dataset.shape)\n",
        "print(dataset.info())"
      ],
      "execution_count": 247,
      "outputs": [
        {
          "output_type": "stream",
          "text": [
            "(4305, 15)\n",
            "<class 'pandas.core.frame.DataFrame'>\n",
            "RangeIndex: 4305 entries, 0 to 4304\n",
            "Data columns (total 15 columns):\n",
            " #   Column              Non-Null Count  Dtype  \n",
            "---  ------              --------------  -----  \n",
            " 0   Date                4305 non-null   object \n",
            " 1   Symbol              4305 non-null   object \n",
            " 2   Series              4305 non-null   object \n",
            " 3   Prev Close          4305 non-null   float64\n",
            " 4   Open                4305 non-null   float64\n",
            " 5   High                4305 non-null   float64\n",
            " 6   Low                 4305 non-null   float64\n",
            " 7   Last                4305 non-null   float64\n",
            " 8   Close               4305 non-null   float64\n",
            " 9   VWAP                4305 non-null   float64\n",
            " 10  Volume              4305 non-null   int64  \n",
            " 11  Turnover            4305 non-null   float64\n",
            " 12  Trades              2334 non-null   float64\n",
            " 13  Deliverable Volume  4304 non-null   float64\n",
            " 14  %Deliverble         4304 non-null   float64\n",
            "dtypes: float64(11), int64(1), object(3)\n",
            "memory usage: 504.6+ KB\n",
            "None\n"
          ],
          "name": "stdout"
        }
      ]
    },
    {
      "cell_type": "code",
      "metadata": {
        "id": "YFBAx5lKqjx4",
        "colab": {
          "base_uri": "https://localhost:8080/",
          "height": 321
        },
        "outputId": "90148fd8-bcb6-44be-c894-508234990587"
      },
      "source": [
        "dataset.describe()"
      ],
      "execution_count": 248,
      "outputs": [
        {
          "output_type": "execute_result",
          "data": {
            "text/html": [
              "<div>\n",
              "<style scoped>\n",
              "    .dataframe tbody tr th:only-of-type {\n",
              "        vertical-align: middle;\n",
              "    }\n",
              "\n",
              "    .dataframe tbody tr th {\n",
              "        vertical-align: top;\n",
              "    }\n",
              "\n",
              "    .dataframe thead th {\n",
              "        text-align: right;\n",
              "    }\n",
              "</style>\n",
              "<table border=\"1\" class=\"dataframe\">\n",
              "  <thead>\n",
              "    <tr style=\"text-align: right;\">\n",
              "      <th></th>\n",
              "      <th>Prev Close</th>\n",
              "      <th>Open</th>\n",
              "      <th>High</th>\n",
              "      <th>Low</th>\n",
              "      <th>Last</th>\n",
              "      <th>Close</th>\n",
              "      <th>VWAP</th>\n",
              "      <th>Volume</th>\n",
              "      <th>Turnover</th>\n",
              "      <th>Trades</th>\n",
              "      <th>Deliverable Volume</th>\n",
              "      <th>%Deliverble</th>\n",
              "    </tr>\n",
              "  </thead>\n",
              "  <tbody>\n",
              "    <tr>\n",
              "      <th>count</th>\n",
              "      <td>4305.000000</td>\n",
              "      <td>4305.000000</td>\n",
              "      <td>4305.000000</td>\n",
              "      <td>4305.000000</td>\n",
              "      <td>4305.000000</td>\n",
              "      <td>4305.000000</td>\n",
              "      <td>4305.00000</td>\n",
              "      <td>4.305000e+03</td>\n",
              "      <td>4.305000e+03</td>\n",
              "      <td>2334.000000</td>\n",
              "      <td>4.304000e+03</td>\n",
              "      <td>4304.000000</td>\n",
              "    </tr>\n",
              "    <tr>\n",
              "      <th>mean</th>\n",
              "      <td>2800.152033</td>\n",
              "      <td>2803.934472</td>\n",
              "      <td>2837.747433</td>\n",
              "      <td>2767.077549</td>\n",
              "      <td>2801.459350</td>\n",
              "      <td>2801.740918</td>\n",
              "      <td>2802.90236</td>\n",
              "      <td>1.197402e+06</td>\n",
              "      <td>2.235933e+14</td>\n",
              "      <td>53090.723650</td>\n",
              "      <td>3.630305e+05</td>\n",
              "      <td>0.389290</td>\n",
              "    </tr>\n",
              "    <tr>\n",
              "      <th>std</th>\n",
              "      <td>2676.753584</td>\n",
              "      <td>2681.161552</td>\n",
              "      <td>2704.761111</td>\n",
              "      <td>2652.623803</td>\n",
              "      <td>2677.026421</td>\n",
              "      <td>2677.195355</td>\n",
              "      <td>2678.71221</td>\n",
              "      <td>1.658447e+06</td>\n",
              "      <td>2.733701e+14</td>\n",
              "      <td>43157.684861</td>\n",
              "      <td>3.716069e+05</td>\n",
              "      <td>0.158008</td>\n",
              "    </tr>\n",
              "    <tr>\n",
              "      <th>min</th>\n",
              "      <td>125.000000</td>\n",
              "      <td>164.000000</td>\n",
              "      <td>168.700000</td>\n",
              "      <td>155.000000</td>\n",
              "      <td>164.000000</td>\n",
              "      <td>164.300000</td>\n",
              "      <td>165.06000</td>\n",
              "      <td>2.279600e+04</td>\n",
              "      <td>2.131518e+12</td>\n",
              "      <td>1096.000000</td>\n",
              "      <td>4.896000e+03</td>\n",
              "      <td>0.034300</td>\n",
              "    </tr>\n",
              "    <tr>\n",
              "      <th>25%</th>\n",
              "      <td>811.250000</td>\n",
              "      <td>815.000000</td>\n",
              "      <td>829.950000</td>\n",
              "      <td>796.250000</td>\n",
              "      <td>812.200000</td>\n",
              "      <td>812.450000</td>\n",
              "      <td>813.51000</td>\n",
              "      <td>4.216340e+05</td>\n",
              "      <td>6.139924e+13</td>\n",
              "      <td>22120.500000</td>\n",
              "      <td>1.604108e+05</td>\n",
              "      <td>0.269275</td>\n",
              "    </tr>\n",
              "    <tr>\n",
              "      <th>50%</th>\n",
              "      <td>1390.700000</td>\n",
              "      <td>1391.550000</td>\n",
              "      <td>1412.000000</td>\n",
              "      <td>1370.250000</td>\n",
              "      <td>1390.000000</td>\n",
              "      <td>1390.800000</td>\n",
              "      <td>1391.64000</td>\n",
              "      <td>6.831620e+05</td>\n",
              "      <td>1.081276e+14</td>\n",
              "      <td>41441.500000</td>\n",
              "      <td>2.695125e+05</td>\n",
              "      <td>0.393250</td>\n",
              "    </tr>\n",
              "    <tr>\n",
              "      <th>75%</th>\n",
              "      <td>4606.550000</td>\n",
              "      <td>4600.000000</td>\n",
              "      <td>4645.950000</td>\n",
              "      <td>4557.250000</td>\n",
              "      <td>4612.650000</td>\n",
              "      <td>4606.900000</td>\n",
              "      <td>4602.97000</td>\n",
              "      <td>1.204104e+06</td>\n",
              "      <td>2.902756e+14</td>\n",
              "      <td>68543.250000</td>\n",
              "      <td>4.482765e+05</td>\n",
              "      <td>0.503725</td>\n",
              "    </tr>\n",
              "    <tr>\n",
              "      <th>max</th>\n",
              "      <td>9832.450000</td>\n",
              "      <td>9966.000000</td>\n",
              "      <td>9996.400000</td>\n",
              "      <td>9725.000000</td>\n",
              "      <td>9846.000000</td>\n",
              "      <td>9832.450000</td>\n",
              "      <td>9850.96000</td>\n",
              "      <td>3.516428e+07</td>\n",
              "      <td>4.878992e+15</td>\n",
              "      <td>407715.000000</td>\n",
              "      <td>8.537695e+06</td>\n",
              "      <td>1.000000</td>\n",
              "    </tr>\n",
              "  </tbody>\n",
              "</table>\n",
              "</div>"
            ],
            "text/plain": [
              "        Prev Close         Open  ...  Deliverable Volume  %Deliverble\n",
              "count  4305.000000  4305.000000  ...        4.304000e+03  4304.000000\n",
              "mean   2800.152033  2803.934472  ...        3.630305e+05     0.389290\n",
              "std    2676.753584  2681.161552  ...        3.716069e+05     0.158008\n",
              "min     125.000000   164.000000  ...        4.896000e+03     0.034300\n",
              "25%     811.250000   815.000000  ...        1.604108e+05     0.269275\n",
              "50%    1390.700000  1391.550000  ...        2.695125e+05     0.393250\n",
              "75%    4606.550000  4600.000000  ...        4.482765e+05     0.503725\n",
              "max    9832.450000  9966.000000  ...        8.537695e+06     1.000000\n",
              "\n",
              "[8 rows x 12 columns]"
            ]
          },
          "metadata": {
            "tags": []
          },
          "execution_count": 248
        }
      ]
    },
    {
      "cell_type": "markdown",
      "metadata": {
        "id": "mWV8NV1Sqt9Q"
      },
      "source": [
        "Identifying Missing Values\n",
        "\n",
        "---\n",
        "\n",
        "\n",
        "compute the total number of missing values in the data frame. You can calculate the number of missing values in each column by df.isnull().sum()"
      ]
    },
    {
      "cell_type": "code",
      "metadata": {
        "id": "P7OpxpeRqktc",
        "colab": {
          "base_uri": "https://localhost:8080/",
          "height": 402
        },
        "outputId": "14ea504c-7fec-4d87-a700-a8142f68b9c4"
      },
      "source": [
        "dataset.isnull()"
      ],
      "execution_count": 249,
      "outputs": [
        {
          "output_type": "execute_result",
          "data": {
            "text/html": [
              "<div>\n",
              "<style scoped>\n",
              "    .dataframe tbody tr th:only-of-type {\n",
              "        vertical-align: middle;\n",
              "    }\n",
              "\n",
              "    .dataframe tbody tr th {\n",
              "        vertical-align: top;\n",
              "    }\n",
              "\n",
              "    .dataframe thead th {\n",
              "        text-align: right;\n",
              "    }\n",
              "</style>\n",
              "<table border=\"1\" class=\"dataframe\">\n",
              "  <thead>\n",
              "    <tr style=\"text-align: right;\">\n",
              "      <th></th>\n",
              "      <th>Date</th>\n",
              "      <th>Symbol</th>\n",
              "      <th>Series</th>\n",
              "      <th>Prev Close</th>\n",
              "      <th>Open</th>\n",
              "      <th>High</th>\n",
              "      <th>Low</th>\n",
              "      <th>Last</th>\n",
              "      <th>Close</th>\n",
              "      <th>VWAP</th>\n",
              "      <th>Volume</th>\n",
              "      <th>Turnover</th>\n",
              "      <th>Trades</th>\n",
              "      <th>Deliverable Volume</th>\n",
              "      <th>%Deliverble</th>\n",
              "    </tr>\n",
              "  </thead>\n",
              "  <tbody>\n",
              "    <tr>\n",
              "      <th>0</th>\n",
              "      <td>False</td>\n",
              "      <td>False</td>\n",
              "      <td>False</td>\n",
              "      <td>False</td>\n",
              "      <td>False</td>\n",
              "      <td>False</td>\n",
              "      <td>False</td>\n",
              "      <td>False</td>\n",
              "      <td>False</td>\n",
              "      <td>False</td>\n",
              "      <td>False</td>\n",
              "      <td>False</td>\n",
              "      <td>True</td>\n",
              "      <td>False</td>\n",
              "      <td>False</td>\n",
              "    </tr>\n",
              "    <tr>\n",
              "      <th>1</th>\n",
              "      <td>False</td>\n",
              "      <td>False</td>\n",
              "      <td>False</td>\n",
              "      <td>False</td>\n",
              "      <td>False</td>\n",
              "      <td>False</td>\n",
              "      <td>False</td>\n",
              "      <td>False</td>\n",
              "      <td>False</td>\n",
              "      <td>False</td>\n",
              "      <td>False</td>\n",
              "      <td>False</td>\n",
              "      <td>True</td>\n",
              "      <td>False</td>\n",
              "      <td>False</td>\n",
              "    </tr>\n",
              "    <tr>\n",
              "      <th>2</th>\n",
              "      <td>False</td>\n",
              "      <td>False</td>\n",
              "      <td>False</td>\n",
              "      <td>False</td>\n",
              "      <td>False</td>\n",
              "      <td>False</td>\n",
              "      <td>False</td>\n",
              "      <td>False</td>\n",
              "      <td>False</td>\n",
              "      <td>False</td>\n",
              "      <td>False</td>\n",
              "      <td>False</td>\n",
              "      <td>True</td>\n",
              "      <td>False</td>\n",
              "      <td>False</td>\n",
              "    </tr>\n",
              "    <tr>\n",
              "      <th>3</th>\n",
              "      <td>False</td>\n",
              "      <td>False</td>\n",
              "      <td>False</td>\n",
              "      <td>False</td>\n",
              "      <td>False</td>\n",
              "      <td>False</td>\n",
              "      <td>False</td>\n",
              "      <td>False</td>\n",
              "      <td>False</td>\n",
              "      <td>False</td>\n",
              "      <td>False</td>\n",
              "      <td>False</td>\n",
              "      <td>True</td>\n",
              "      <td>False</td>\n",
              "      <td>False</td>\n",
              "    </tr>\n",
              "    <tr>\n",
              "      <th>4</th>\n",
              "      <td>False</td>\n",
              "      <td>False</td>\n",
              "      <td>False</td>\n",
              "      <td>False</td>\n",
              "      <td>False</td>\n",
              "      <td>False</td>\n",
              "      <td>False</td>\n",
              "      <td>False</td>\n",
              "      <td>False</td>\n",
              "      <td>False</td>\n",
              "      <td>False</td>\n",
              "      <td>False</td>\n",
              "      <td>True</td>\n",
              "      <td>False</td>\n",
              "      <td>False</td>\n",
              "    </tr>\n",
              "    <tr>\n",
              "      <th>...</th>\n",
              "      <td>...</td>\n",
              "      <td>...</td>\n",
              "      <td>...</td>\n",
              "      <td>...</td>\n",
              "      <td>...</td>\n",
              "      <td>...</td>\n",
              "      <td>...</td>\n",
              "      <td>...</td>\n",
              "      <td>...</td>\n",
              "      <td>...</td>\n",
              "      <td>...</td>\n",
              "      <td>...</td>\n",
              "      <td>...</td>\n",
              "      <td>...</td>\n",
              "      <td>...</td>\n",
              "    </tr>\n",
              "    <tr>\n",
              "      <th>4300</th>\n",
              "      <td>False</td>\n",
              "      <td>False</td>\n",
              "      <td>False</td>\n",
              "      <td>False</td>\n",
              "      <td>False</td>\n",
              "      <td>False</td>\n",
              "      <td>False</td>\n",
              "      <td>False</td>\n",
              "      <td>False</td>\n",
              "      <td>False</td>\n",
              "      <td>False</td>\n",
              "      <td>False</td>\n",
              "      <td>False</td>\n",
              "      <td>False</td>\n",
              "      <td>False</td>\n",
              "    </tr>\n",
              "    <tr>\n",
              "      <th>4301</th>\n",
              "      <td>False</td>\n",
              "      <td>False</td>\n",
              "      <td>False</td>\n",
              "      <td>False</td>\n",
              "      <td>False</td>\n",
              "      <td>False</td>\n",
              "      <td>False</td>\n",
              "      <td>False</td>\n",
              "      <td>False</td>\n",
              "      <td>False</td>\n",
              "      <td>False</td>\n",
              "      <td>False</td>\n",
              "      <td>False</td>\n",
              "      <td>False</td>\n",
              "      <td>False</td>\n",
              "    </tr>\n",
              "    <tr>\n",
              "      <th>4302</th>\n",
              "      <td>False</td>\n",
              "      <td>False</td>\n",
              "      <td>False</td>\n",
              "      <td>False</td>\n",
              "      <td>False</td>\n",
              "      <td>False</td>\n",
              "      <td>False</td>\n",
              "      <td>False</td>\n",
              "      <td>False</td>\n",
              "      <td>False</td>\n",
              "      <td>False</td>\n",
              "      <td>False</td>\n",
              "      <td>False</td>\n",
              "      <td>False</td>\n",
              "      <td>False</td>\n",
              "    </tr>\n",
              "    <tr>\n",
              "      <th>4303</th>\n",
              "      <td>False</td>\n",
              "      <td>False</td>\n",
              "      <td>False</td>\n",
              "      <td>False</td>\n",
              "      <td>False</td>\n",
              "      <td>False</td>\n",
              "      <td>False</td>\n",
              "      <td>False</td>\n",
              "      <td>False</td>\n",
              "      <td>False</td>\n",
              "      <td>False</td>\n",
              "      <td>False</td>\n",
              "      <td>False</td>\n",
              "      <td>False</td>\n",
              "      <td>False</td>\n",
              "    </tr>\n",
              "    <tr>\n",
              "      <th>4304</th>\n",
              "      <td>False</td>\n",
              "      <td>False</td>\n",
              "      <td>False</td>\n",
              "      <td>False</td>\n",
              "      <td>False</td>\n",
              "      <td>False</td>\n",
              "      <td>False</td>\n",
              "      <td>False</td>\n",
              "      <td>False</td>\n",
              "      <td>False</td>\n",
              "      <td>False</td>\n",
              "      <td>False</td>\n",
              "      <td>False</td>\n",
              "      <td>False</td>\n",
              "      <td>False</td>\n",
              "    </tr>\n",
              "  </tbody>\n",
              "</table>\n",
              "<p>4305 rows × 15 columns</p>\n",
              "</div>"
            ],
            "text/plain": [
              "       Date  Symbol  Series  ...  Trades  Deliverable Volume  %Deliverble\n",
              "0     False   False   False  ...    True               False        False\n",
              "1     False   False   False  ...    True               False        False\n",
              "2     False   False   False  ...    True               False        False\n",
              "3     False   False   False  ...    True               False        False\n",
              "4     False   False   False  ...    True               False        False\n",
              "...     ...     ...     ...  ...     ...                 ...          ...\n",
              "4300  False   False   False  ...   False               False        False\n",
              "4301  False   False   False  ...   False               False        False\n",
              "4302  False   False   False  ...   False               False        False\n",
              "4303  False   False   False  ...   False               False        False\n",
              "4304  False   False   False  ...   False               False        False\n",
              "\n",
              "[4305 rows x 15 columns]"
            ]
          },
          "metadata": {
            "tags": []
          },
          "execution_count": 249
        }
      ]
    },
    {
      "cell_type": "code",
      "metadata": {
        "id": "7OFy8EGpqlbL",
        "colab": {
          "base_uri": "https://localhost:8080/"
        },
        "outputId": "44b447b7-899d-42a4-a29e-985e745abd0a"
      },
      "source": [
        "# summing up the missing values (column-wise)\n",
        "dataset.isnull().sum()"
      ],
      "execution_count": 250,
      "outputs": [
        {
          "output_type": "execute_result",
          "data": {
            "text/plain": [
              "Date                     0\n",
              "Symbol                   0\n",
              "Series                   0\n",
              "Prev Close               0\n",
              "Open                     0\n",
              "High                     0\n",
              "Low                      0\n",
              "Last                     0\n",
              "Close                    0\n",
              "VWAP                     0\n",
              "Volume                   0\n",
              "Turnover                 0\n",
              "Trades                1971\n",
              "Deliverable Volume       1\n",
              "%Deliverble              1\n",
              "dtype: int64"
            ]
          },
          "metadata": {
            "tags": []
          },
          "execution_count": 250
        }
      ]
    },
    {
      "cell_type": "markdown",
      "metadata": {
        "id": "eP12Fe0crrGT"
      },
      "source": [
        "There is no need to handle missing values, as there is only \"Trades\" whose all values are not in our dataset but we actually dont need Trade values as of now as our prediction is not dependent on Trade values. \n",
        "So, Just ignore handling this missing data"
      ]
    },
    {
      "cell_type": "markdown",
      "metadata": {
        "id": "EFAPx64GNAOP"
      },
      "source": [
        "## Feature Scaling"
      ]
    },
    {
      "cell_type": "code",
      "metadata": {
        "id": "G6CpDhpxNAOP"
      },
      "source": [
        "from sklearn.preprocessing import MinMaxScaler\n",
        "sc = MinMaxScaler(feature_range = (0, 1))\n",
        "training_set_scaled = sc.fit_transform(training_set)"
      ],
      "execution_count": 251,
      "outputs": []
    },
    {
      "cell_type": "markdown",
      "metadata": {
        "id": "gKhptojejmeG"
      },
      "source": [
        "training_set_scaled - it contains the new scaled training set whose values are between 0 and 1.\n",
        "We have done normalisation \n",
        "![image.png](data:image/png;base64,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)"
      ]
    },
    {
      "cell_type": "code",
      "metadata": {
        "id": "Wgsw-b_TNAOR",
        "colab": {
          "base_uri": "https://localhost:8080/"
        },
        "outputId": "faba76c8-b3c8-49fa-cd7f-85afd24e727e"
      },
      "source": [
        "training_set_scaled"
      ],
      "execution_count": 252,
      "outputs": [
        {
          "output_type": "execute_result",
          "data": {
            "text/plain": [
              "array([[0.00000000e+00],\n",
              "       [2.79267492e-04],\n",
              "       [9.36063259e-04],\n",
              "       ...,\n",
              "       [6.76313462e-01],\n",
              "       [6.80424900e-01],\n",
              "       [6.80497303e-01]])"
            ]
          },
          "metadata": {
            "tags": []
          },
          "execution_count": 252
        }
      ]
    },
    {
      "cell_type": "markdown",
      "metadata": {
        "id": "z1vabCSiNAOT"
      },
      "source": [
        "## Creating a data structure with 80 timesteps and 1 output"
      ]
    },
    {
      "cell_type": "markdown",
      "metadata": {
        "id": "fRPY93_rkmAa"
      },
      "source": [
        "Creating a data structure with 80 timesteps and 1 output. Model learns from past 80 days (appx 4 months) and predict the 81th day stock price by seeing the trends, model will basically create a pattern like what gonna happen after certain movements in stock market.\n",
        "It is like doing the technical analysis of the stock."
      ]
    },
    {
      "cell_type": "code",
      "metadata": {
        "id": "03LVSzCdNAOU"
      },
      "source": [
        "X_train = []\n",
        "Y_train = []\n",
        "for i in range(80, 4284):\n",
        "    X_train.append(training_set_scaled[i-80:i, 0])\n",
        "    Y_train.append(training_set_scaled[i, 0])\n",
        "X_train, Y_train = np.array(X_train), np.array(Y_train)"
      ],
      "execution_count": 253,
      "outputs": []
    },
    {
      "cell_type": "code",
      "metadata": {
        "id": "tcbOb4LyNAOX",
        "colab": {
          "base_uri": "https://localhost:8080/"
        },
        "outputId": "43386cef-aa08-4990-8870-d497ab599b7c"
      },
      "source": [
        "X_train.shape"
      ],
      "execution_count": 254,
      "outputs": [
        {
          "output_type": "execute_result",
          "data": {
            "text/plain": [
              "(4204, 80)"
            ]
          },
          "metadata": {
            "tags": []
          },
          "execution_count": 254
        }
      ]
    },
    {
      "cell_type": "code",
      "metadata": {
        "id": "Fqlf0rPaNAOZ",
        "colab": {
          "base_uri": "https://localhost:8080/"
        },
        "outputId": "1e1f4a21-45e8-4c46-8fcf-f072b4b1d0b0"
      },
      "source": [
        "Y_train.shape"
      ],
      "execution_count": 255,
      "outputs": [
        {
          "output_type": "execute_result",
          "data": {
            "text/plain": [
              "(4204,)"
            ]
          },
          "metadata": {
            "tags": []
          },
          "execution_count": 255
        }
      ]
    },
    {
      "cell_type": "code",
      "metadata": {
        "id": "W-XH2G9BNAOb",
        "colab": {
          "base_uri": "https://localhost:8080/"
        },
        "outputId": "6aee371f-9582-414a-c023-7d10cf4b7235"
      },
      "source": [
        "X_train.shape[0], X_train.shape[1]       # rows and columns"
      ],
      "execution_count": 256,
      "outputs": [
        {
          "output_type": "execute_result",
          "data": {
            "text/plain": [
              "(4204, 80)"
            ]
          },
          "metadata": {
            "tags": []
          },
          "execution_count": 256
        }
      ]
    },
    {
      "cell_type": "markdown",
      "metadata": {
        "id": "c-eWDbysNAOd"
      },
      "source": [
        "## Reshaping"
      ]
    },
    {
      "cell_type": "markdown",
      "metadata": {
        "id": "a_52i-0qldJP"
      },
      "source": [
        "Adding some more dimentionality to this data-structure (X-train) and that dimension is a unit, that is nuumber of predictors we can use to predict what we want. These predictors are **indicators**, like if we take only 1 indicator, as this financial problem has 'open prices' as a indicator which also defines the 'close prices' , so add dimension=1 to X_train.\n",
        "\n",
        "Parameters of reshape function\n",
        "\n",
        "X_train.shape[0] = no. of stocks / Batch Size\n",
        "\n",
        "\n",
        "---\n",
        "\n",
        "\n",
        "X_train.shape[1] = timesteps\n",
        "\n",
        "\n",
        "---\n",
        "\n",
        "\n",
        "1 = no. of indicators\n",
        "\n",
        "\n",
        "\n",
        "\n",
        "\n",
        "\n"
      ]
    },
    {
      "cell_type": "code",
      "metadata": {
        "id": "6SksscNRNAOd"
      },
      "source": [
        "X_train = np.reshape(X_train, (X_train.shape[0], X_train.shape[1], 1))"
      ],
      "execution_count": 257,
      "outputs": []
    },
    {
      "cell_type": "code",
      "metadata": {
        "id": "ZpSNfe-2NAOf",
        "colab": {
          "base_uri": "https://localhost:8080/"
        },
        "outputId": "f819d9cc-4b33-403d-bc1d-d24822bf7f6d"
      },
      "source": [
        "X_train.shape[0] , X_train.shape[1] , X_train.shape[2]   "
      ],
      "execution_count": 258,
      "outputs": [
        {
          "output_type": "execute_result",
          "data": {
            "text/plain": [
              "(4204, 80, 1)"
            ]
          },
          "metadata": {
            "tags": []
          },
          "execution_count": 258
        }
      ]
    },
    {
      "cell_type": "markdown",
      "metadata": {
        "id": "5orkzOHnNAOh"
      },
      "source": [
        "# Part 2 - Building and Training the RNN"
      ]
    },
    {
      "cell_type": "markdown",
      "metadata": {
        "id": "HqX82aljNAOh"
      },
      "source": [
        "## Importing the Keras libraries and packages"
      ]
    },
    {
      "cell_type": "code",
      "metadata": {
        "id": "PNB-pNKONAOi"
      },
      "source": [
        "from keras.models import Sequential\n",
        "from keras.layers import Dense\n",
        "from keras.layers import LSTM\n",
        "from keras.layers import Dropout\n",
        "from keras.layers import GRU\n",
        "import keras"
      ],
      "execution_count": 259,
      "outputs": []
    },
    {
      "cell_type": "code",
      "metadata": {
        "id": "O8x-Dg1-NAOk",
        "colab": {
          "base_uri": "https://localhost:8080/",
          "height": 35
        },
        "outputId": "e7a1484c-99eb-436c-c7bf-743855b6a233"
      },
      "source": [
        "keras.__version__"
      ],
      "execution_count": 260,
      "outputs": [
        {
          "output_type": "execute_result",
          "data": {
            "application/vnd.google.colaboratory.intrinsic+json": {
              "type": "string"
            },
            "text/plain": [
              "'2.4.3'"
            ]
          },
          "metadata": {
            "tags": []
          },
          "execution_count": 260
        }
      ]
    },
    {
      "cell_type": "code",
      "metadata": {
        "id": "jA1yLLWDNAOm"
      },
      "source": [
        "import tensorflow as tf"
      ],
      "execution_count": 261,
      "outputs": []
    },
    {
      "cell_type": "code",
      "metadata": {
        "id": "rryFp-VXNAOo",
        "colab": {
          "base_uri": "https://localhost:8080/",
          "height": 35
        },
        "outputId": "20c89f81-e264-47eb-b1b4-73371ceda1c6"
      },
      "source": [
        "tf.__version__"
      ],
      "execution_count": 262,
      "outputs": [
        {
          "output_type": "execute_result",
          "data": {
            "application/vnd.google.colaboratory.intrinsic+json": {
              "type": "string"
            },
            "text/plain": [
              "'2.3.0'"
            ]
          },
          "metadata": {
            "tags": []
          },
          "execution_count": 262
        }
      ]
    },
    {
      "cell_type": "markdown",
      "metadata": {
        "id": "g-AzBy78NAOq"
      },
      "source": [
        "## Initialising the RNN"
      ]
    },
    {
      "cell_type": "code",
      "metadata": {
        "id": "I2KVbgwUNAOq"
      },
      "source": [
        "regressor = Sequential()"
      ],
      "execution_count": 263,
      "outputs": []
    },
    {
      "cell_type": "markdown",
      "metadata": {
        "id": "C8jKTn_FNAOs"
      },
      "source": [
        "## Adding the first LSTM layer and some Dropout regularisation"
      ]
    },
    {
      "cell_type": "code",
      "metadata": {
        "id": "YqB5JcmvNAOs"
      },
      "source": [
        "regressor.add(LSTM(units = 150,\n",
        "                   return_sequences = True, \n",
        "                   input_shape = (X_train.shape[1], 1)\n",
        "                   ))\n",
        "regressor.add(Dropout(0.2))"
      ],
      "execution_count": 264,
      "outputs": []
    },
    {
      "cell_type": "markdown",
      "metadata": {
        "id": "aNReTCIgNAOv"
      },
      "source": [
        "## Adding a second LSTM layer and some Dropout regularisation"
      ]
    },
    {
      "cell_type": "code",
      "metadata": {
        "id": "cB3ZaGeaNAOv"
      },
      "source": [
        "regressor.add(GRU(\n",
        "    units = 150, \n",
        "    return_sequences = True\n",
        "    ))\n",
        "regressor.add(Dropout(0.2))"
      ],
      "execution_count": 265,
      "outputs": []
    },
    {
      "cell_type": "markdown",
      "metadata": {
        "id": "Y4mn9nVXNAOy"
      },
      "source": [
        "## Adding a third LSTM layer and some Dropout regularisation "
      ]
    },
    {
      "cell_type": "code",
      "metadata": {
        "id": "ASZSYd2MNAOy"
      },
      "source": [
        "regressor.add(LSTM(\n",
        "    units = 150,\n",
        "    return_sequences = True\n",
        "    ))\n",
        "regressor.add(Dropout(0.2))"
      ],
      "execution_count": 266,
      "outputs": []
    },
    {
      "cell_type": "code",
      "metadata": {
        "id": "tV1vsPfJ_Rz2"
      },
      "source": [
        ""
      ],
      "execution_count": 267,
      "outputs": []
    },
    {
      "cell_type": "markdown",
      "metadata": {
        "id": "H7aUbZysNAO0"
      },
      "source": [
        "\n",
        "\n",
        "```\n",
        "# This is formatted as code\n",
        "```\n",
        "\n",
        "## Adding a forth LSTM layer and some Dropout regularisation"
      ]
    },
    {
      "cell_type": "code",
      "metadata": {
        "id": "lAzR_MzcNAO1"
      },
      "source": [
        "regressor.add(LSTM(units = 150))\n",
        "regressor.add(Dropout(0.2))"
      ],
      "execution_count": 268,
      "outputs": []
    },
    {
      "cell_type": "markdown",
      "metadata": {
        "id": "u95fbqmxNAO2"
      },
      "source": [
        "## Adding the output layer "
      ]
    },
    {
      "cell_type": "code",
      "metadata": {
        "id": "yJLQLqwmNAO3"
      },
      "source": [
        "regressor.add(Dense(units = 1))"
      ],
      "execution_count": 269,
      "outputs": []
    },
    {
      "cell_type": "markdown",
      "metadata": {
        "id": "RE62J6c0NAO5"
      },
      "source": [
        "## Compiling the RNN"
      ]
    },
    {
      "cell_type": "code",
      "metadata": {
        "id": "32p7kacmNAO5"
      },
      "source": [
        "regressor.compile(\n",
        "    optimizer = 'adam',\n",
        "    loss = 'mean_squared_error',\n",
        "    metrics=['accuracy']\n",
        "    )"
      ],
      "execution_count": 270,
      "outputs": []
    },
    {
      "cell_type": "code",
      "metadata": {
        "id": "uX8YbazrNAO9",
        "colab": {
          "base_uri": "https://localhost:8080/"
        },
        "outputId": "e7b3a51c-7394-4546-da63-b0ad5b0c62d2"
      },
      "source": [
        "Y_train.shape"
      ],
      "execution_count": 271,
      "outputs": [
        {
          "output_type": "execute_result",
          "data": {
            "text/plain": [
              "(4204,)"
            ]
          },
          "metadata": {
            "tags": []
          },
          "execution_count": 271
        }
      ]
    },
    {
      "cell_type": "markdown",
      "metadata": {
        "id": "JyfScAs7NAO_"
      },
      "source": [
        "## Fitting the RNN to the Training set "
      ]
    },
    {
      "cell_type": "code",
      "metadata": {
        "id": "fehzdCHfNAO_",
        "colab": {
          "base_uri": "https://localhost:8080/"
        },
        "outputId": "613cf548-b69e-4028-c97e-92506bff0dee"
      },
      "source": [
        "regressor.fit(X_train, Y_train, epochs =500, batch_size = 32)"
      ],
      "execution_count": 272,
      "outputs": [
        {
          "output_type": "stream",
          "text": [
            "Epoch 1/500\n",
            "132/132 [==============================] - 4s 30ms/step - loss: 0.0051 - accuracy: 2.3787e-04\n",
            "Epoch 2/500\n",
            "132/132 [==============================] - 4s 30ms/step - loss: 0.0018 - accuracy: 2.3787e-04\n",
            "Epoch 3/500\n",
            "132/132 [==============================] - 4s 30ms/step - loss: 0.0012 - accuracy: 2.3787e-04\n",
            "Epoch 4/500\n",
            "132/132 [==============================] - 4s 31ms/step - loss: 0.0012 - accuracy: 2.3787e-04\n",
            "Epoch 5/500\n",
            "132/132 [==============================] - 4s 31ms/step - loss: 0.0011 - accuracy: 2.3787e-04\n",
            "Epoch 6/500\n",
            "132/132 [==============================] - 4s 31ms/step - loss: 0.0013 - accuracy: 2.3787e-04\n",
            "Epoch 7/500\n",
            "132/132 [==============================] - 4s 30ms/step - loss: 0.0011 - accuracy: 2.3787e-04\n",
            "Epoch 8/500\n",
            "132/132 [==============================] - 4s 30ms/step - loss: 9.0249e-04 - accuracy: 2.3787e-04\n",
            "Epoch 9/500\n",
            "132/132 [==============================] - 4s 30ms/step - loss: 8.4939e-04 - accuracy: 2.3787e-04\n",
            "Epoch 10/500\n",
            "132/132 [==============================] - 4s 30ms/step - loss: 8.0119e-04 - accuracy: 2.3787e-04\n",
            "Epoch 11/500\n",
            "132/132 [==============================] - 4s 31ms/step - loss: 0.0011 - accuracy: 2.3787e-04\n",
            "Epoch 12/500\n",
            "132/132 [==============================] - 4s 31ms/step - loss: 7.5011e-04 - accuracy: 2.3787e-04\n",
            "Epoch 13/500\n",
            "132/132 [==============================] - 4s 31ms/step - loss: 8.2043e-04 - accuracy: 2.3787e-04\n",
            "Epoch 14/500\n",
            "132/132 [==============================] - 4s 30ms/step - loss: 8.6891e-04 - accuracy: 2.3787e-04\n",
            "Epoch 15/500\n",
            "132/132 [==============================] - 4s 30ms/step - loss: 6.8138e-04 - accuracy: 2.3787e-04\n",
            "Epoch 16/500\n",
            "132/132 [==============================] - 4s 30ms/step - loss: 7.8235e-04 - accuracy: 2.3787e-04\n",
            "Epoch 17/500\n",
            "132/132 [==============================] - 4s 30ms/step - loss: 8.0503e-04 - accuracy: 2.3787e-04\n",
            "Epoch 18/500\n",
            "132/132 [==============================] - 4s 30ms/step - loss: 7.7326e-04 - accuracy: 2.3787e-04\n",
            "Epoch 19/500\n",
            "132/132 [==============================] - 4s 30ms/step - loss: 8.2609e-04 - accuracy: 2.3787e-04\n",
            "Epoch 20/500\n",
            "132/132 [==============================] - 4s 30ms/step - loss: 6.7942e-04 - accuracy: 2.3787e-04\n",
            "Epoch 21/500\n",
            "132/132 [==============================] - 4s 30ms/step - loss: 8.0104e-04 - accuracy: 2.3787e-04\n",
            "Epoch 22/500\n",
            "132/132 [==============================] - 4s 30ms/step - loss: 6.9273e-04 - accuracy: 2.3787e-04\n",
            "Epoch 23/500\n",
            "132/132 [==============================] - 4s 30ms/step - loss: 6.6382e-04 - accuracy: 2.3787e-04\n",
            "Epoch 24/500\n",
            "132/132 [==============================] - 4s 30ms/step - loss: 5.9755e-04 - accuracy: 2.3787e-04\n",
            "Epoch 25/500\n",
            "132/132 [==============================] - 4s 30ms/step - loss: 6.0718e-04 - accuracy: 2.3787e-04\n",
            "Epoch 26/500\n",
            "132/132 [==============================] - 4s 30ms/step - loss: 6.7095e-04 - accuracy: 2.3787e-04\n",
            "Epoch 27/500\n",
            "132/132 [==============================] - 4s 30ms/step - loss: 5.3222e-04 - accuracy: 2.3787e-04\n",
            "Epoch 28/500\n",
            "132/132 [==============================] - 4s 30ms/step - loss: 5.6553e-04 - accuracy: 2.3787e-04\n",
            "Epoch 29/500\n",
            "132/132 [==============================] - 4s 30ms/step - loss: 5.8462e-04 - accuracy: 2.3787e-04\n",
            "Epoch 30/500\n",
            "132/132 [==============================] - 4s 30ms/step - loss: 6.2171e-04 - accuracy: 2.3787e-04\n",
            "Epoch 31/500\n",
            "132/132 [==============================] - 4s 30ms/step - loss: 5.6628e-04 - accuracy: 2.3787e-04\n",
            "Epoch 32/500\n",
            "132/132 [==============================] - 4s 30ms/step - loss: 6.0952e-04 - accuracy: 2.3787e-04\n",
            "Epoch 33/500\n",
            "132/132 [==============================] - 4s 30ms/step - loss: 6.6022e-04 - accuracy: 2.3787e-04\n",
            "Epoch 34/500\n",
            "132/132 [==============================] - 4s 30ms/step - loss: 4.9320e-04 - accuracy: 2.3787e-04\n",
            "Epoch 35/500\n",
            "132/132 [==============================] - 4s 30ms/step - loss: 6.1664e-04 - accuracy: 2.3787e-04\n",
            "Epoch 36/500\n",
            "132/132 [==============================] - 4s 30ms/step - loss: 5.2271e-04 - accuracy: 2.3787e-04\n",
            "Epoch 37/500\n",
            "132/132 [==============================] - 4s 30ms/step - loss: 4.9606e-04 - accuracy: 2.3787e-04\n",
            "Epoch 38/500\n",
            "132/132 [==============================] - 4s 30ms/step - loss: 5.7420e-04 - accuracy: 2.3787e-04\n",
            "Epoch 39/500\n",
            "132/132 [==============================] - 4s 30ms/step - loss: 5.2872e-04 - accuracy: 2.3787e-04\n",
            "Epoch 40/500\n",
            "132/132 [==============================] - 4s 30ms/step - loss: 5.4808e-04 - accuracy: 2.3787e-04\n",
            "Epoch 41/500\n",
            "132/132 [==============================] - 4s 30ms/step - loss: 4.3502e-04 - accuracy: 2.3787e-04\n",
            "Epoch 42/500\n",
            "132/132 [==============================] - 4s 30ms/step - loss: 4.8168e-04 - accuracy: 2.3787e-04\n",
            "Epoch 43/500\n",
            "132/132 [==============================] - 4s 30ms/step - loss: 5.0926e-04 - accuracy: 2.3787e-04\n",
            "Epoch 44/500\n",
            "132/132 [==============================] - 4s 30ms/step - loss: 5.4409e-04 - accuracy: 2.3787e-04\n",
            "Epoch 45/500\n",
            "132/132 [==============================] - 4s 30ms/step - loss: 4.6706e-04 - accuracy: 2.3787e-04\n",
            "Epoch 46/500\n",
            "132/132 [==============================] - 4s 30ms/step - loss: 5.2569e-04 - accuracy: 2.3787e-04\n",
            "Epoch 47/500\n",
            "132/132 [==============================] - 4s 30ms/step - loss: 5.0188e-04 - accuracy: 2.3787e-04\n",
            "Epoch 48/500\n",
            "132/132 [==============================] - 4s 30ms/step - loss: 4.4055e-04 - accuracy: 2.3787e-04\n",
            "Epoch 49/500\n",
            "132/132 [==============================] - 4s 30ms/step - loss: 4.6294e-04 - accuracy: 2.3787e-04\n",
            "Epoch 50/500\n",
            "132/132 [==============================] - 4s 30ms/step - loss: 4.7092e-04 - accuracy: 2.3787e-04\n",
            "Epoch 51/500\n",
            "132/132 [==============================] - 4s 30ms/step - loss: 4.8692e-04 - accuracy: 2.3787e-04\n",
            "Epoch 52/500\n",
            "132/132 [==============================] - 4s 30ms/step - loss: 4.7695e-04 - accuracy: 2.3787e-04\n",
            "Epoch 53/500\n",
            "132/132 [==============================] - 4s 30ms/step - loss: 4.4050e-04 - accuracy: 2.3787e-04\n",
            "Epoch 54/500\n",
            "132/132 [==============================] - 4s 30ms/step - loss: 6.1038e-04 - accuracy: 2.3787e-04\n",
            "Epoch 55/500\n",
            "132/132 [==============================] - 4s 30ms/step - loss: 4.6102e-04 - accuracy: 2.3787e-04\n",
            "Epoch 56/500\n",
            "132/132 [==============================] - 4s 30ms/step - loss: 4.6308e-04 - accuracy: 2.3787e-04\n",
            "Epoch 57/500\n",
            "132/132 [==============================] - 4s 30ms/step - loss: 3.8790e-04 - accuracy: 2.3787e-04\n",
            "Epoch 58/500\n",
            "132/132 [==============================] - 4s 30ms/step - loss: 4.3319e-04 - accuracy: 2.3787e-04\n",
            "Epoch 59/500\n",
            "132/132 [==============================] - 4s 30ms/step - loss: 4.2654e-04 - accuracy: 2.3787e-04\n",
            "Epoch 60/500\n",
            "132/132 [==============================] - 4s 30ms/step - loss: 4.2392e-04 - accuracy: 2.3787e-04\n",
            "Epoch 61/500\n",
            "132/132 [==============================] - 4s 30ms/step - loss: 4.1346e-04 - accuracy: 2.3787e-04\n",
            "Epoch 62/500\n",
            "132/132 [==============================] - 4s 30ms/step - loss: 4.8849e-04 - accuracy: 2.3787e-04\n",
            "Epoch 63/500\n",
            "132/132 [==============================] - 4s 30ms/step - loss: 4.2335e-04 - accuracy: 2.3787e-04\n",
            "Epoch 64/500\n",
            "132/132 [==============================] - 4s 30ms/step - loss: 4.3134e-04 - accuracy: 2.3787e-04\n",
            "Epoch 65/500\n",
            "132/132 [==============================] - 4s 30ms/step - loss: 4.2325e-04 - accuracy: 2.3787e-04\n",
            "Epoch 66/500\n",
            "132/132 [==============================] - 4s 30ms/step - loss: 5.2826e-04 - accuracy: 2.3787e-04\n",
            "Epoch 67/500\n",
            "132/132 [==============================] - 4s 30ms/step - loss: 3.8680e-04 - accuracy: 2.3787e-04\n",
            "Epoch 68/500\n",
            "132/132 [==============================] - 4s 30ms/step - loss: 4.3127e-04 - accuracy: 2.3787e-04\n",
            "Epoch 69/500\n",
            "132/132 [==============================] - 4s 30ms/step - loss: 4.4007e-04 - accuracy: 2.3787e-04\n",
            "Epoch 70/500\n",
            "132/132 [==============================] - 4s 30ms/step - loss: 4.2039e-04 - accuracy: 2.3787e-04\n",
            "Epoch 71/500\n",
            "132/132 [==============================] - 4s 30ms/step - loss: 4.3566e-04 - accuracy: 2.3787e-04\n",
            "Epoch 72/500\n",
            "132/132 [==============================] - 4s 30ms/step - loss: 3.9333e-04 - accuracy: 2.3787e-04\n",
            "Epoch 73/500\n",
            "132/132 [==============================] - 4s 30ms/step - loss: 3.7970e-04 - accuracy: 2.3787e-04\n",
            "Epoch 74/500\n",
            "132/132 [==============================] - 4s 30ms/step - loss: 4.1502e-04 - accuracy: 2.3787e-04\n",
            "Epoch 75/500\n",
            "132/132 [==============================] - 4s 30ms/step - loss: 4.4919e-04 - accuracy: 2.3787e-04\n",
            "Epoch 76/500\n",
            "132/132 [==============================] - 4s 30ms/step - loss: 3.8395e-04 - accuracy: 2.3787e-04\n",
            "Epoch 77/500\n",
            "132/132 [==============================] - 4s 30ms/step - loss: 4.4013e-04 - accuracy: 2.3787e-04\n",
            "Epoch 78/500\n",
            "132/132 [==============================] - 4s 30ms/step - loss: 4.0658e-04 - accuracy: 2.3787e-04\n",
            "Epoch 79/500\n",
            "132/132 [==============================] - 4s 30ms/step - loss: 4.5901e-04 - accuracy: 2.3787e-04\n",
            "Epoch 80/500\n",
            "132/132 [==============================] - 4s 30ms/step - loss: 4.3434e-04 - accuracy: 2.3787e-04\n",
            "Epoch 81/500\n",
            "132/132 [==============================] - 4s 30ms/step - loss: 4.1423e-04 - accuracy: 2.3787e-04\n",
            "Epoch 82/500\n",
            "132/132 [==============================] - 4s 30ms/step - loss: 3.9589e-04 - accuracy: 2.3787e-04\n",
            "Epoch 83/500\n",
            "132/132 [==============================] - 4s 31ms/step - loss: 3.5217e-04 - accuracy: 2.3787e-04\n",
            "Epoch 84/500\n",
            "132/132 [==============================] - 4s 31ms/step - loss: 3.6961e-04 - accuracy: 2.3787e-04\n",
            "Epoch 85/500\n",
            "132/132 [==============================] - 4s 30ms/step - loss: 3.8873e-04 - accuracy: 2.3787e-04\n",
            "Epoch 86/500\n",
            "132/132 [==============================] - 4s 30ms/step - loss: 3.6310e-04 - accuracy: 2.3787e-04\n",
            "Epoch 87/500\n",
            "132/132 [==============================] - 4s 30ms/step - loss: 3.8963e-04 - accuracy: 2.3787e-04\n",
            "Epoch 88/500\n",
            "132/132 [==============================] - 4s 30ms/step - loss: 4.0861e-04 - accuracy: 2.3787e-04\n",
            "Epoch 89/500\n",
            "132/132 [==============================] - 4s 30ms/step - loss: 4.0884e-04 - accuracy: 2.3787e-04\n",
            "Epoch 90/500\n",
            "132/132 [==============================] - 4s 30ms/step - loss: 3.4893e-04 - accuracy: 2.3787e-04\n",
            "Epoch 91/500\n",
            "132/132 [==============================] - 4s 30ms/step - loss: 4.0280e-04 - accuracy: 2.3787e-04\n",
            "Epoch 92/500\n",
            "132/132 [==============================] - 4s 30ms/step - loss: 4.2666e-04 - accuracy: 2.3787e-04\n",
            "Epoch 93/500\n",
            "132/132 [==============================] - 4s 30ms/step - loss: 3.8571e-04 - accuracy: 2.3787e-04\n",
            "Epoch 94/500\n",
            "132/132 [==============================] - 4s 30ms/step - loss: 4.1080e-04 - accuracy: 2.3787e-04\n",
            "Epoch 95/500\n",
            "132/132 [==============================] - 4s 30ms/step - loss: 3.8291e-04 - accuracy: 2.3787e-04\n",
            "Epoch 96/500\n",
            "132/132 [==============================] - 4s 30ms/step - loss: 3.8304e-04 - accuracy: 2.3787e-04\n",
            "Epoch 97/500\n",
            "132/132 [==============================] - 4s 30ms/step - loss: 4.1904e-04 - accuracy: 2.3787e-04\n",
            "Epoch 98/500\n",
            "132/132 [==============================] - 4s 30ms/step - loss: 4.2322e-04 - accuracy: 2.3787e-04\n",
            "Epoch 99/500\n",
            "132/132 [==============================] - 4s 30ms/step - loss: 3.6687e-04 - accuracy: 2.3787e-04\n",
            "Epoch 100/500\n",
            "132/132 [==============================] - 4s 30ms/step - loss: 3.6119e-04 - accuracy: 2.3787e-04\n",
            "Epoch 101/500\n",
            "132/132 [==============================] - 4s 30ms/step - loss: 3.2956e-04 - accuracy: 2.3787e-04\n",
            "Epoch 102/500\n",
            "132/132 [==============================] - 4s 30ms/step - loss: 3.8160e-04 - accuracy: 2.3787e-04\n",
            "Epoch 103/500\n",
            "132/132 [==============================] - 4s 30ms/step - loss: 3.9635e-04 - accuracy: 2.3787e-04\n",
            "Epoch 104/500\n",
            "132/132 [==============================] - 4s 30ms/step - loss: 4.1036e-04 - accuracy: 2.3787e-04\n",
            "Epoch 105/500\n",
            "132/132 [==============================] - 4s 30ms/step - loss: 3.6935e-04 - accuracy: 2.3787e-04\n",
            "Epoch 106/500\n",
            "132/132 [==============================] - 4s 30ms/step - loss: 4.1092e-04 - accuracy: 2.3787e-04\n",
            "Epoch 107/500\n",
            "132/132 [==============================] - 4s 30ms/step - loss: 3.4466e-04 - accuracy: 2.3787e-04\n",
            "Epoch 108/500\n",
            "132/132 [==============================] - 4s 30ms/step - loss: 3.7195e-04 - accuracy: 2.3787e-04\n",
            "Epoch 109/500\n",
            "132/132 [==============================] - 4s 30ms/step - loss: 3.5857e-04 - accuracy: 2.3787e-04\n",
            "Epoch 110/500\n",
            "132/132 [==============================] - 4s 30ms/step - loss: 3.4820e-04 - accuracy: 2.3787e-04\n",
            "Epoch 111/500\n",
            "132/132 [==============================] - 4s 30ms/step - loss: 3.5558e-04 - accuracy: 2.3787e-04\n",
            "Epoch 112/500\n",
            "132/132 [==============================] - 4s 30ms/step - loss: 3.4310e-04 - accuracy: 2.3787e-04\n",
            "Epoch 113/500\n",
            "132/132 [==============================] - 4s 30ms/step - loss: 3.8524e-04 - accuracy: 2.3787e-04\n",
            "Epoch 114/500\n",
            "132/132 [==============================] - 4s 30ms/step - loss: 3.5098e-04 - accuracy: 2.3787e-04\n",
            "Epoch 115/500\n",
            "132/132 [==============================] - 4s 30ms/step - loss: 3.4989e-04 - accuracy: 2.3787e-04\n",
            "Epoch 116/500\n",
            "132/132 [==============================] - 4s 30ms/step - loss: 4.0289e-04 - accuracy: 2.3787e-04\n",
            "Epoch 117/500\n",
            "132/132 [==============================] - 4s 30ms/step - loss: 4.0260e-04 - accuracy: 2.3787e-04\n",
            "Epoch 118/500\n",
            "132/132 [==============================] - 4s 30ms/step - loss: 3.9351e-04 - accuracy: 2.3787e-04\n",
            "Epoch 119/500\n",
            "132/132 [==============================] - 4s 30ms/step - loss: 3.9337e-04 - accuracy: 2.3787e-04\n",
            "Epoch 120/500\n",
            "132/132 [==============================] - 4s 30ms/step - loss: 3.7229e-04 - accuracy: 2.3787e-04\n",
            "Epoch 121/500\n",
            "132/132 [==============================] - 4s 30ms/step - loss: 3.6053e-04 - accuracy: 2.3787e-04\n",
            "Epoch 122/500\n",
            "132/132 [==============================] - 4s 30ms/step - loss: 3.7767e-04 - accuracy: 2.3787e-04\n",
            "Epoch 123/500\n",
            "132/132 [==============================] - 4s 30ms/step - loss: 3.7492e-04 - accuracy: 2.3787e-04\n",
            "Epoch 124/500\n",
            "132/132 [==============================] - 4s 30ms/step - loss: 3.3849e-04 - accuracy: 2.3787e-04\n",
            "Epoch 125/500\n",
            "132/132 [==============================] - 4s 30ms/step - loss: 3.8458e-04 - accuracy: 2.3787e-04\n",
            "Epoch 126/500\n",
            "132/132 [==============================] - 4s 30ms/step - loss: 3.6718e-04 - accuracy: 2.3787e-04\n",
            "Epoch 127/500\n",
            "132/132 [==============================] - 4s 30ms/step - loss: 3.4308e-04 - accuracy: 2.3787e-04\n",
            "Epoch 128/500\n",
            "132/132 [==============================] - 4s 30ms/step - loss: 4.5295e-04 - accuracy: 2.3787e-04\n",
            "Epoch 129/500\n",
            "132/132 [==============================] - 4s 30ms/step - loss: 3.4390e-04 - accuracy: 2.3787e-04\n",
            "Epoch 130/500\n",
            "132/132 [==============================] - 4s 30ms/step - loss: 3.6125e-04 - accuracy: 2.3787e-04\n",
            "Epoch 131/500\n",
            "132/132 [==============================] - 4s 30ms/step - loss: 3.4244e-04 - accuracy: 2.3787e-04\n",
            "Epoch 132/500\n",
            "132/132 [==============================] - 4s 30ms/step - loss: 3.0092e-04 - accuracy: 2.3787e-04\n",
            "Epoch 133/500\n",
            "132/132 [==============================] - 4s 30ms/step - loss: 3.2784e-04 - accuracy: 2.3787e-04\n",
            "Epoch 134/500\n",
            "132/132 [==============================] - 4s 30ms/step - loss: 3.7689e-04 - accuracy: 2.3787e-04\n",
            "Epoch 135/500\n",
            "132/132 [==============================] - 4s 30ms/step - loss: 3.2133e-04 - accuracy: 2.3787e-04\n",
            "Epoch 136/500\n",
            "132/132 [==============================] - 4s 30ms/step - loss: 3.2686e-04 - accuracy: 2.3787e-04\n",
            "Epoch 137/500\n",
            "132/132 [==============================] - 4s 30ms/step - loss: 3.4928e-04 - accuracy: 2.3787e-04\n",
            "Epoch 138/500\n",
            "132/132 [==============================] - 4s 30ms/step - loss: 3.8023e-04 - accuracy: 2.3787e-04\n",
            "Epoch 139/500\n",
            "132/132 [==============================] - 4s 30ms/step - loss: 3.7693e-04 - accuracy: 2.3787e-04\n",
            "Epoch 140/500\n",
            "132/132 [==============================] - 4s 30ms/step - loss: 3.4957e-04 - accuracy: 2.3787e-04\n",
            "Epoch 141/500\n",
            "132/132 [==============================] - 4s 30ms/step - loss: 3.3047e-04 - accuracy: 2.3787e-04\n",
            "Epoch 142/500\n",
            "132/132 [==============================] - 4s 30ms/step - loss: 3.5963e-04 - accuracy: 2.3787e-04\n",
            "Epoch 143/500\n",
            "132/132 [==============================] - 4s 30ms/step - loss: 3.7833e-04 - accuracy: 2.3787e-04\n",
            "Epoch 144/500\n",
            "132/132 [==============================] - 4s 30ms/step - loss: 3.6864e-04 - accuracy: 2.3787e-04\n",
            "Epoch 145/500\n",
            "132/132 [==============================] - 4s 30ms/step - loss: 3.2240e-04 - accuracy: 2.3787e-04\n",
            "Epoch 146/500\n",
            "132/132 [==============================] - 4s 30ms/step - loss: 3.2201e-04 - accuracy: 2.3787e-04\n",
            "Epoch 147/500\n",
            "132/132 [==============================] - 4s 30ms/step - loss: 3.5093e-04 - accuracy: 2.3787e-04\n",
            "Epoch 148/500\n",
            "132/132 [==============================] - 4s 30ms/step - loss: 3.7323e-04 - accuracy: 2.3787e-04\n",
            "Epoch 149/500\n",
            "132/132 [==============================] - 4s 30ms/step - loss: 3.8136e-04 - accuracy: 2.3787e-04\n",
            "Epoch 150/500\n",
            "132/132 [==============================] - 4s 30ms/step - loss: 3.0723e-04 - accuracy: 2.3787e-04\n",
            "Epoch 151/500\n",
            "132/132 [==============================] - 4s 30ms/step - loss: 3.3472e-04 - accuracy: 2.3787e-04\n",
            "Epoch 152/500\n",
            "132/132 [==============================] - 4s 30ms/step - loss: 3.2604e-04 - accuracy: 2.3787e-04\n",
            "Epoch 153/500\n",
            "132/132 [==============================] - 4s 30ms/step - loss: 3.1881e-04 - accuracy: 2.3787e-04\n",
            "Epoch 154/500\n",
            "132/132 [==============================] - 4s 30ms/step - loss: 3.3973e-04 - accuracy: 2.3787e-04\n",
            "Epoch 155/500\n",
            "132/132 [==============================] - 4s 30ms/step - loss: 3.1850e-04 - accuracy: 2.3787e-04\n",
            "Epoch 156/500\n",
            "132/132 [==============================] - 4s 30ms/step - loss: 3.5172e-04 - accuracy: 2.3787e-04\n",
            "Epoch 157/500\n",
            "132/132 [==============================] - 4s 30ms/step - loss: 3.3069e-04 - accuracy: 2.3787e-04\n",
            "Epoch 158/500\n",
            "132/132 [==============================] - 4s 30ms/step - loss: 3.5790e-04 - accuracy: 2.3787e-04\n",
            "Epoch 159/500\n",
            "132/132 [==============================] - 4s 30ms/step - loss: 3.0833e-04 - accuracy: 2.3787e-04\n",
            "Epoch 160/500\n",
            "132/132 [==============================] - 4s 31ms/step - loss: 3.1481e-04 - accuracy: 2.3787e-04\n",
            "Epoch 161/500\n",
            "132/132 [==============================] - 4s 31ms/step - loss: 3.4728e-04 - accuracy: 2.3787e-04\n",
            "Epoch 162/500\n",
            "132/132 [==============================] - 4s 30ms/step - loss: 3.7093e-04 - accuracy: 2.3787e-04\n",
            "Epoch 163/500\n",
            "132/132 [==============================] - 4s 30ms/step - loss: 2.9741e-04 - accuracy: 2.3787e-04\n",
            "Epoch 164/500\n",
            "132/132 [==============================] - 4s 30ms/step - loss: 3.9714e-04 - accuracy: 2.3787e-04\n",
            "Epoch 165/500\n",
            "132/132 [==============================] - 4s 30ms/step - loss: 2.8593e-04 - accuracy: 2.3787e-04\n",
            "Epoch 166/500\n",
            "132/132 [==============================] - 4s 30ms/step - loss: 3.2868e-04 - accuracy: 2.3787e-04\n",
            "Epoch 167/500\n",
            "132/132 [==============================] - 4s 30ms/step - loss: 3.3004e-04 - accuracy: 2.3787e-04\n",
            "Epoch 168/500\n",
            "132/132 [==============================] - 4s 30ms/step - loss: 3.4865e-04 - accuracy: 2.3787e-04\n",
            "Epoch 169/500\n",
            "132/132 [==============================] - 4s 30ms/step - loss: 3.3914e-04 - accuracy: 2.3787e-04\n",
            "Epoch 170/500\n",
            "132/132 [==============================] - 4s 30ms/step - loss: 3.2604e-04 - accuracy: 2.3787e-04\n",
            "Epoch 171/500\n",
            "132/132 [==============================] - 4s 30ms/step - loss: 3.1308e-04 - accuracy: 2.3787e-04\n",
            "Epoch 172/500\n",
            "132/132 [==============================] - 4s 30ms/step - loss: 3.4256e-04 - accuracy: 2.3787e-04\n",
            "Epoch 173/500\n",
            "132/132 [==============================] - 4s 30ms/step - loss: 3.3204e-04 - accuracy: 2.3787e-04\n",
            "Epoch 174/500\n",
            "132/132 [==============================] - 4s 30ms/step - loss: 2.7834e-04 - accuracy: 2.3787e-04\n",
            "Epoch 175/500\n",
            "132/132 [==============================] - 4s 30ms/step - loss: 3.5348e-04 - accuracy: 2.3787e-04\n",
            "Epoch 176/500\n",
            "132/132 [==============================] - 4s 30ms/step - loss: 2.9958e-04 - accuracy: 2.3787e-04\n",
            "Epoch 177/500\n",
            "132/132 [==============================] - 4s 30ms/step - loss: 3.0184e-04 - accuracy: 2.3787e-04\n",
            "Epoch 178/500\n",
            "132/132 [==============================] - 4s 30ms/step - loss: 3.4729e-04 - accuracy: 2.3787e-04\n",
            "Epoch 179/500\n",
            "132/132 [==============================] - 4s 30ms/step - loss: 2.9990e-04 - accuracy: 2.3787e-04\n",
            "Epoch 180/500\n",
            "132/132 [==============================] - 4s 30ms/step - loss: 3.2332e-04 - accuracy: 2.3787e-04\n",
            "Epoch 181/500\n",
            "132/132 [==============================] - 4s 30ms/step - loss: 3.1939e-04 - accuracy: 2.3787e-04\n",
            "Epoch 182/500\n",
            "132/132 [==============================] - 4s 30ms/step - loss: 3.3832e-04 - accuracy: 2.3787e-04\n",
            "Epoch 183/500\n",
            "132/132 [==============================] - 4s 30ms/step - loss: 2.8901e-04 - accuracy: 2.3787e-04\n",
            "Epoch 184/500\n",
            "132/132 [==============================] - 4s 30ms/step - loss: 2.7844e-04 - accuracy: 2.3787e-04\n",
            "Epoch 185/500\n",
            "132/132 [==============================] - 4s 30ms/step - loss: 3.3847e-04 - accuracy: 2.3787e-04\n",
            "Epoch 186/500\n",
            "132/132 [==============================] - 4s 30ms/step - loss: 3.5693e-04 - accuracy: 2.3787e-04\n",
            "Epoch 187/500\n",
            "132/132 [==============================] - 4s 30ms/step - loss: 3.2786e-04 - accuracy: 2.3787e-04\n",
            "Epoch 188/500\n",
            "132/132 [==============================] - 4s 30ms/step - loss: 2.9806e-04 - accuracy: 2.3787e-04\n",
            "Epoch 189/500\n",
            "132/132 [==============================] - 4s 30ms/step - loss: 2.9950e-04 - accuracy: 2.3787e-04\n",
            "Epoch 190/500\n",
            "132/132 [==============================] - 4s 30ms/step - loss: 2.8193e-04 - accuracy: 2.3787e-04\n",
            "Epoch 191/500\n",
            "132/132 [==============================] - 4s 30ms/step - loss: 3.1768e-04 - accuracy: 2.3787e-04\n",
            "Epoch 192/500\n",
            "132/132 [==============================] - 4s 30ms/step - loss: 3.3581e-04 - accuracy: 2.3787e-04\n",
            "Epoch 193/500\n",
            "132/132 [==============================] - 4s 30ms/step - loss: 3.0563e-04 - accuracy: 2.3787e-04\n",
            "Epoch 194/500\n",
            "132/132 [==============================] - 4s 30ms/step - loss: 2.9127e-04 - accuracy: 2.3787e-04\n",
            "Epoch 195/500\n",
            "132/132 [==============================] - 4s 30ms/step - loss: 3.5189e-04 - accuracy: 2.3787e-04\n",
            "Epoch 196/500\n",
            "132/132 [==============================] - 4s 30ms/step - loss: 3.9714e-04 - accuracy: 2.3787e-04\n",
            "Epoch 197/500\n",
            "132/132 [==============================] - 4s 30ms/step - loss: 3.1629e-04 - accuracy: 2.3787e-04\n",
            "Epoch 198/500\n",
            "132/132 [==============================] - 4s 30ms/step - loss: 2.9400e-04 - accuracy: 2.3787e-04\n",
            "Epoch 199/500\n",
            "132/132 [==============================] - 4s 30ms/step - loss: 3.0361e-04 - accuracy: 2.3787e-04\n",
            "Epoch 200/500\n",
            "132/132 [==============================] - 4s 30ms/step - loss: 3.2633e-04 - accuracy: 2.3787e-04\n",
            "Epoch 201/500\n",
            "132/132 [==============================] - 4s 30ms/step - loss: 3.2206e-04 - accuracy: 2.3787e-04\n",
            "Epoch 202/500\n",
            "132/132 [==============================] - 4s 30ms/step - loss: 3.1410e-04 - accuracy: 2.3787e-04\n",
            "Epoch 203/500\n",
            "132/132 [==============================] - 4s 30ms/step - loss: 2.8595e-04 - accuracy: 2.3787e-04\n",
            "Epoch 204/500\n",
            "132/132 [==============================] - 4s 30ms/step - loss: 3.7160e-04 - accuracy: 2.3787e-04\n",
            "Epoch 205/500\n",
            "132/132 [==============================] - 4s 30ms/step - loss: 2.8346e-04 - accuracy: 2.3787e-04\n",
            "Epoch 206/500\n",
            "132/132 [==============================] - 4s 30ms/step - loss: 3.0117e-04 - accuracy: 2.3787e-04\n",
            "Epoch 207/500\n",
            "132/132 [==============================] - 4s 30ms/step - loss: 3.2730e-04 - accuracy: 2.3787e-04\n",
            "Epoch 208/500\n",
            "132/132 [==============================] - 4s 30ms/step - loss: 2.8571e-04 - accuracy: 2.3787e-04\n",
            "Epoch 209/500\n",
            "132/132 [==============================] - 4s 30ms/step - loss: 3.5064e-04 - accuracy: 2.3787e-04\n",
            "Epoch 210/500\n",
            "132/132 [==============================] - 4s 30ms/step - loss: 3.0484e-04 - accuracy: 2.3787e-04\n",
            "Epoch 211/500\n",
            "132/132 [==============================] - 4s 30ms/step - loss: 3.1382e-04 - accuracy: 2.3787e-04\n",
            "Epoch 212/500\n",
            "132/132 [==============================] - 4s 30ms/step - loss: 3.2303e-04 - accuracy: 2.3787e-04\n",
            "Epoch 213/500\n",
            "132/132 [==============================] - 4s 30ms/step - loss: 2.8709e-04 - accuracy: 2.3787e-04\n",
            "Epoch 214/500\n",
            "132/132 [==============================] - 4s 30ms/step - loss: 2.8722e-04 - accuracy: 2.3787e-04\n",
            "Epoch 215/500\n",
            "132/132 [==============================] - 4s 30ms/step - loss: 2.9717e-04 - accuracy: 2.3787e-04\n",
            "Epoch 216/500\n",
            "132/132 [==============================] - 4s 30ms/step - loss: 3.1103e-04 - accuracy: 2.3787e-04\n",
            "Epoch 217/500\n",
            "132/132 [==============================] - 4s 30ms/step - loss: 3.0469e-04 - accuracy: 2.3787e-04\n",
            "Epoch 218/500\n",
            "132/132 [==============================] - 4s 30ms/step - loss: 3.0573e-04 - accuracy: 2.3787e-04\n",
            "Epoch 219/500\n",
            "132/132 [==============================] - 4s 30ms/step - loss: 2.8712e-04 - accuracy: 2.3787e-04\n",
            "Epoch 220/500\n",
            "132/132 [==============================] - 4s 30ms/step - loss: 2.6981e-04 - accuracy: 2.3787e-04\n",
            "Epoch 221/500\n",
            "132/132 [==============================] - 4s 30ms/step - loss: 3.1731e-04 - accuracy: 2.3787e-04\n",
            "Epoch 222/500\n",
            "132/132 [==============================] - 4s 31ms/step - loss: 3.3473e-04 - accuracy: 2.3787e-04\n",
            "Epoch 223/500\n",
            "132/132 [==============================] - 4s 30ms/step - loss: 3.4290e-04 - accuracy: 2.3787e-04\n",
            "Epoch 224/500\n",
            "132/132 [==============================] - 4s 31ms/step - loss: 2.8842e-04 - accuracy: 2.3787e-04\n",
            "Epoch 225/500\n",
            "132/132 [==============================] - 4s 30ms/step - loss: 3.0350e-04 - accuracy: 2.3787e-04\n",
            "Epoch 226/500\n",
            "132/132 [==============================] - 4s 31ms/step - loss: 3.0410e-04 - accuracy: 2.3787e-04\n",
            "Epoch 227/500\n",
            "132/132 [==============================] - 4s 31ms/step - loss: 2.9279e-04 - accuracy: 2.3787e-04\n",
            "Epoch 228/500\n",
            "132/132 [==============================] - 4s 31ms/step - loss: 2.8139e-04 - accuracy: 2.3787e-04\n",
            "Epoch 229/500\n",
            "132/132 [==============================] - 4s 30ms/step - loss: 3.0100e-04 - accuracy: 2.3787e-04\n",
            "Epoch 230/500\n",
            "132/132 [==============================] - 4s 30ms/step - loss: 3.4605e-04 - accuracy: 2.3787e-04\n",
            "Epoch 231/500\n",
            "132/132 [==============================] - 4s 31ms/step - loss: 3.0792e-04 - accuracy: 2.3787e-04\n",
            "Epoch 232/500\n",
            "132/132 [==============================] - 4s 31ms/step - loss: 2.6485e-04 - accuracy: 2.3787e-04\n",
            "Epoch 233/500\n",
            "132/132 [==============================] - 4s 31ms/step - loss: 3.1236e-04 - accuracy: 2.3787e-04\n",
            "Epoch 234/500\n",
            "132/132 [==============================] - 4s 31ms/step - loss: 3.1758e-04 - accuracy: 2.3787e-04\n",
            "Epoch 235/500\n",
            "132/132 [==============================] - 4s 30ms/step - loss: 3.1429e-04 - accuracy: 2.3787e-04\n",
            "Epoch 236/500\n",
            "132/132 [==============================] - 4s 31ms/step - loss: 2.7906e-04 - accuracy: 2.3787e-04\n",
            "Epoch 237/500\n",
            "132/132 [==============================] - 4s 31ms/step - loss: 3.0576e-04 - accuracy: 2.3787e-04\n",
            "Epoch 238/500\n",
            "132/132 [==============================] - 4s 31ms/step - loss: 3.2909e-04 - accuracy: 2.3787e-04\n",
            "Epoch 239/500\n",
            "132/132 [==============================] - 4s 31ms/step - loss: 2.6949e-04 - accuracy: 2.3787e-04\n",
            "Epoch 240/500\n",
            "132/132 [==============================] - 4s 31ms/step - loss: 2.9778e-04 - accuracy: 2.3787e-04\n",
            "Epoch 241/500\n",
            "132/132 [==============================] - 4s 31ms/step - loss: 2.7776e-04 - accuracy: 2.3787e-04\n",
            "Epoch 242/500\n",
            "132/132 [==============================] - 4s 31ms/step - loss: 3.1730e-04 - accuracy: 2.3787e-04\n",
            "Epoch 243/500\n",
            "132/132 [==============================] - 4s 31ms/step - loss: 2.8090e-04 - accuracy: 2.3787e-04\n",
            "Epoch 244/500\n",
            "132/132 [==============================] - 4s 31ms/step - loss: 2.9844e-04 - accuracy: 2.3787e-04\n",
            "Epoch 245/500\n",
            "132/132 [==============================] - 4s 30ms/step - loss: 2.5769e-04 - accuracy: 2.3787e-04\n",
            "Epoch 246/500\n",
            "132/132 [==============================] - 4s 30ms/step - loss: 2.7943e-04 - accuracy: 2.3787e-04\n",
            "Epoch 247/500\n",
            "132/132 [==============================] - 4s 31ms/step - loss: 2.9989e-04 - accuracy: 2.3787e-04\n",
            "Epoch 248/500\n",
            "132/132 [==============================] - 4s 31ms/step - loss: 2.8871e-04 - accuracy: 2.3787e-04\n",
            "Epoch 249/500\n",
            "132/132 [==============================] - 4s 31ms/step - loss: 2.9360e-04 - accuracy: 2.3787e-04\n",
            "Epoch 250/500\n",
            "132/132 [==============================] - 4s 31ms/step - loss: 3.3338e-04 - accuracy: 2.3787e-04\n",
            "Epoch 251/500\n",
            "132/132 [==============================] - 4s 30ms/step - loss: 2.7088e-04 - accuracy: 2.3787e-04\n",
            "Epoch 252/500\n",
            "132/132 [==============================] - 4s 31ms/step - loss: 2.8009e-04 - accuracy: 2.3787e-04\n",
            "Epoch 253/500\n",
            "132/132 [==============================] - 4s 31ms/step - loss: 2.9190e-04 - accuracy: 2.3787e-04\n",
            "Epoch 254/500\n",
            "132/132 [==============================] - 4s 31ms/step - loss: 2.7942e-04 - accuracy: 2.3787e-04\n",
            "Epoch 255/500\n",
            "132/132 [==============================] - 4s 31ms/step - loss: 3.1422e-04 - accuracy: 2.3787e-04\n",
            "Epoch 256/500\n",
            "132/132 [==============================] - 4s 30ms/step - loss: 2.9334e-04 - accuracy: 2.3787e-04\n",
            "Epoch 257/500\n",
            "132/132 [==============================] - 4s 30ms/step - loss: 2.7502e-04 - accuracy: 2.3787e-04\n",
            "Epoch 258/500\n",
            "132/132 [==============================] - 4s 31ms/step - loss: 2.6685e-04 - accuracy: 2.3787e-04\n",
            "Epoch 259/500\n",
            "132/132 [==============================] - 4s 30ms/step - loss: 2.8593e-04 - accuracy: 2.3787e-04\n",
            "Epoch 260/500\n",
            "132/132 [==============================] - 4s 31ms/step - loss: 2.9341e-04 - accuracy: 2.3787e-04\n",
            "Epoch 261/500\n",
            "132/132 [==============================] - 4s 30ms/step - loss: 2.9234e-04 - accuracy: 2.3787e-04\n",
            "Epoch 262/500\n",
            "132/132 [==============================] - 4s 31ms/step - loss: 3.0848e-04 - accuracy: 2.3787e-04\n",
            "Epoch 263/500\n",
            "132/132 [==============================] - 4s 31ms/step - loss: 2.9166e-04 - accuracy: 2.3787e-04\n",
            "Epoch 264/500\n",
            "132/132 [==============================] - 4s 31ms/step - loss: 2.8391e-04 - accuracy: 2.3787e-04\n",
            "Epoch 265/500\n",
            "132/132 [==============================] - 4s 31ms/step - loss: 3.0980e-04 - accuracy: 2.3787e-04\n",
            "Epoch 266/500\n",
            "132/132 [==============================] - 4s 31ms/step - loss: 2.7254e-04 - accuracy: 2.3787e-04\n",
            "Epoch 267/500\n",
            "132/132 [==============================] - 4s 31ms/step - loss: 2.9142e-04 - accuracy: 2.3787e-04\n",
            "Epoch 268/500\n",
            "132/132 [==============================] - 4s 31ms/step - loss: 2.7154e-04 - accuracy: 2.3787e-04\n",
            "Epoch 269/500\n",
            "132/132 [==============================] - 4s 31ms/step - loss: 3.0813e-04 - accuracy: 2.3787e-04\n",
            "Epoch 270/500\n",
            "132/132 [==============================] - 4s 31ms/step - loss: 2.7155e-04 - accuracy: 2.3787e-04\n",
            "Epoch 271/500\n",
            "132/132 [==============================] - 4s 30ms/step - loss: 2.7219e-04 - accuracy: 2.3787e-04\n",
            "Epoch 272/500\n",
            "132/132 [==============================] - 4s 30ms/step - loss: 3.0426e-04 - accuracy: 2.3787e-04\n",
            "Epoch 273/500\n",
            "132/132 [==============================] - 4s 31ms/step - loss: 2.9311e-04 - accuracy: 2.3787e-04\n",
            "Epoch 274/500\n",
            "132/132 [==============================] - 4s 31ms/step - loss: 2.6838e-04 - accuracy: 2.3787e-04\n",
            "Epoch 275/500\n",
            "132/132 [==============================] - 4s 30ms/step - loss: 2.9121e-04 - accuracy: 2.3787e-04\n",
            "Epoch 276/500\n",
            "132/132 [==============================] - 4s 30ms/step - loss: 2.9386e-04 - accuracy: 2.3787e-04\n",
            "Epoch 277/500\n",
            "132/132 [==============================] - 4s 30ms/step - loss: 2.8263e-04 - accuracy: 2.3787e-04\n",
            "Epoch 278/500\n",
            "132/132 [==============================] - 4s 30ms/step - loss: 3.1155e-04 - accuracy: 2.3787e-04\n",
            "Epoch 279/500\n",
            "132/132 [==============================] - 4s 30ms/step - loss: 3.1131e-04 - accuracy: 2.3787e-04\n",
            "Epoch 280/500\n",
            "132/132 [==============================] - 4s 30ms/step - loss: 2.8528e-04 - accuracy: 2.3787e-04\n",
            "Epoch 281/500\n",
            "132/132 [==============================] - 4s 31ms/step - loss: 2.6440e-04 - accuracy: 2.3787e-04\n",
            "Epoch 282/500\n",
            "132/132 [==============================] - 4s 30ms/step - loss: 2.7888e-04 - accuracy: 2.3787e-04\n",
            "Epoch 283/500\n",
            "132/132 [==============================] - 4s 30ms/step - loss: 2.7149e-04 - accuracy: 2.3787e-04\n",
            "Epoch 284/500\n",
            "132/132 [==============================] - 4s 30ms/step - loss: 2.9543e-04 - accuracy: 2.3787e-04\n",
            "Epoch 285/500\n",
            "132/132 [==============================] - 4s 31ms/step - loss: 2.7977e-04 - accuracy: 2.3787e-04\n",
            "Epoch 286/500\n",
            "132/132 [==============================] - 4s 30ms/step - loss: 3.0723e-04 - accuracy: 2.3787e-04\n",
            "Epoch 287/500\n",
            "132/132 [==============================] - 4s 30ms/step - loss: 3.0396e-04 - accuracy: 2.3787e-04\n",
            "Epoch 288/500\n",
            "132/132 [==============================] - 4s 30ms/step - loss: 2.6746e-04 - accuracy: 2.3787e-04\n",
            "Epoch 289/500\n",
            "132/132 [==============================] - 4s 31ms/step - loss: 2.6592e-04 - accuracy: 2.3787e-04\n",
            "Epoch 290/500\n",
            "132/132 [==============================] - 4s 30ms/step - loss: 2.6948e-04 - accuracy: 2.3787e-04\n",
            "Epoch 291/500\n",
            "132/132 [==============================] - 4s 31ms/step - loss: 2.9712e-04 - accuracy: 2.3787e-04\n",
            "Epoch 292/500\n",
            "132/132 [==============================] - 4s 30ms/step - loss: 3.2388e-04 - accuracy: 2.3787e-04\n",
            "Epoch 293/500\n",
            "132/132 [==============================] - 4s 31ms/step - loss: 2.7262e-04 - accuracy: 2.3787e-04\n",
            "Epoch 294/500\n",
            "132/132 [==============================] - 4s 31ms/step - loss: 2.9622e-04 - accuracy: 2.3787e-04\n",
            "Epoch 295/500\n",
            "132/132 [==============================] - 4s 30ms/step - loss: 2.9136e-04 - accuracy: 2.3787e-04\n",
            "Epoch 296/500\n",
            "132/132 [==============================] - 4s 31ms/step - loss: 2.8145e-04 - accuracy: 2.3787e-04\n",
            "Epoch 297/500\n",
            "132/132 [==============================] - 4s 31ms/step - loss: 2.8038e-04 - accuracy: 2.3787e-04\n",
            "Epoch 298/500\n",
            "132/132 [==============================] - 4s 30ms/step - loss: 2.7802e-04 - accuracy: 2.3787e-04\n",
            "Epoch 299/500\n",
            "132/132 [==============================] - 4s 30ms/step - loss: 2.8556e-04 - accuracy: 2.3787e-04\n",
            "Epoch 300/500\n",
            "132/132 [==============================] - 4s 31ms/step - loss: 2.8371e-04 - accuracy: 2.3787e-04\n",
            "Epoch 301/500\n",
            "132/132 [==============================] - 4s 30ms/step - loss: 2.8217e-04 - accuracy: 2.3787e-04\n",
            "Epoch 302/500\n",
            "132/132 [==============================] - 4s 30ms/step - loss: 2.5668e-04 - accuracy: 2.3787e-04\n",
            "Epoch 303/500\n",
            "132/132 [==============================] - 4s 30ms/step - loss: 2.9695e-04 - accuracy: 2.3787e-04\n",
            "Epoch 304/500\n",
            "132/132 [==============================] - 4s 30ms/step - loss: 2.9114e-04 - accuracy: 2.3787e-04\n",
            "Epoch 305/500\n",
            "132/132 [==============================] - 4s 31ms/step - loss: 2.9430e-04 - accuracy: 2.3787e-04\n",
            "Epoch 306/500\n",
            "132/132 [==============================] - 4s 31ms/step - loss: 2.5384e-04 - accuracy: 2.3787e-04\n",
            "Epoch 307/500\n",
            "132/132 [==============================] - 4s 30ms/step - loss: 2.8202e-04 - accuracy: 2.3787e-04\n",
            "Epoch 308/500\n",
            "132/132 [==============================] - 4s 31ms/step - loss: 2.8081e-04 - accuracy: 2.3787e-04\n",
            "Epoch 309/500\n",
            "132/132 [==============================] - 4s 31ms/step - loss: 2.8181e-04 - accuracy: 2.3787e-04\n",
            "Epoch 310/500\n",
            "132/132 [==============================] - 4s 31ms/step - loss: 2.7320e-04 - accuracy: 2.3787e-04\n",
            "Epoch 311/500\n",
            "132/132 [==============================] - 4s 31ms/step - loss: 2.9086e-04 - accuracy: 2.3787e-04\n",
            "Epoch 312/500\n",
            "132/132 [==============================] - 4s 31ms/step - loss: 2.7648e-04 - accuracy: 2.3787e-04\n",
            "Epoch 313/500\n",
            "132/132 [==============================] - 4s 31ms/step - loss: 2.7040e-04 - accuracy: 2.3787e-04\n",
            "Epoch 314/500\n",
            "132/132 [==============================] - 4s 31ms/step - loss: 2.6189e-04 - accuracy: 2.3787e-04\n",
            "Epoch 315/500\n",
            "132/132 [==============================] - 4s 31ms/step - loss: 2.8731e-04 - accuracy: 2.3787e-04\n",
            "Epoch 316/500\n",
            "132/132 [==============================] - 4s 31ms/step - loss: 2.8926e-04 - accuracy: 2.3787e-04\n",
            "Epoch 317/500\n",
            "132/132 [==============================] - 4s 31ms/step - loss: 2.6554e-04 - accuracy: 2.3787e-04\n",
            "Epoch 318/500\n",
            "132/132 [==============================] - 4s 31ms/step - loss: 2.8220e-04 - accuracy: 2.3787e-04\n",
            "Epoch 319/500\n",
            "132/132 [==============================] - 4s 31ms/step - loss: 3.2672e-04 - accuracy: 2.3787e-04\n",
            "Epoch 320/500\n",
            "132/132 [==============================] - 4s 31ms/step - loss: 2.6880e-04 - accuracy: 2.3787e-04\n",
            "Epoch 321/500\n",
            "132/132 [==============================] - 4s 31ms/step - loss: 2.6669e-04 - accuracy: 2.3787e-04\n",
            "Epoch 322/500\n",
            "132/132 [==============================] - 4s 31ms/step - loss: 3.1337e-04 - accuracy: 2.3787e-04\n",
            "Epoch 323/500\n",
            "132/132 [==============================] - 4s 31ms/step - loss: 2.7780e-04 - accuracy: 2.3787e-04\n",
            "Epoch 324/500\n",
            "132/132 [==============================] - 4s 31ms/step - loss: 2.8227e-04 - accuracy: 2.3787e-04\n",
            "Epoch 325/500\n",
            "132/132 [==============================] - 4s 31ms/step - loss: 2.7797e-04 - accuracy: 2.3787e-04\n",
            "Epoch 326/500\n",
            "132/132 [==============================] - 4s 31ms/step - loss: 2.7639e-04 - accuracy: 2.3787e-04\n",
            "Epoch 327/500\n",
            "132/132 [==============================] - 4s 31ms/step - loss: 2.5887e-04 - accuracy: 2.3787e-04\n",
            "Epoch 328/500\n",
            "132/132 [==============================] - 4s 31ms/step - loss: 2.8712e-04 - accuracy: 2.3787e-04\n",
            "Epoch 329/500\n",
            "132/132 [==============================] - 4s 31ms/step - loss: 2.5084e-04 - accuracy: 2.3787e-04\n",
            "Epoch 330/500\n",
            "132/132 [==============================] - 4s 30ms/step - loss: 2.7732e-04 - accuracy: 2.3787e-04\n",
            "Epoch 331/500\n",
            "132/132 [==============================] - 4s 31ms/step - loss: 2.7000e-04 - accuracy: 2.3787e-04\n",
            "Epoch 332/500\n",
            "132/132 [==============================] - 4s 31ms/step - loss: 2.6161e-04 - accuracy: 2.3787e-04\n",
            "Epoch 333/500\n",
            "132/132 [==============================] - 4s 31ms/step - loss: 2.9635e-04 - accuracy: 2.3787e-04\n",
            "Epoch 334/500\n",
            "132/132 [==============================] - 4s 31ms/step - loss: 2.7720e-04 - accuracy: 2.3787e-04\n",
            "Epoch 335/500\n",
            "132/132 [==============================] - 4s 31ms/step - loss: 2.6684e-04 - accuracy: 2.3787e-04\n",
            "Epoch 336/500\n",
            "132/132 [==============================] - 4s 31ms/step - loss: 2.5646e-04 - accuracy: 2.3787e-04\n",
            "Epoch 337/500\n",
            "132/132 [==============================] - 4s 31ms/step - loss: 2.8332e-04 - accuracy: 2.3787e-04\n",
            "Epoch 338/500\n",
            "132/132 [==============================] - 4s 31ms/step - loss: 2.7854e-04 - accuracy: 2.3787e-04\n",
            "Epoch 339/500\n",
            "132/132 [==============================] - 4s 31ms/step - loss: 2.7491e-04 - accuracy: 2.3787e-04\n",
            "Epoch 340/500\n",
            "132/132 [==============================] - 4s 31ms/step - loss: 2.7347e-04 - accuracy: 2.3787e-04\n",
            "Epoch 341/500\n",
            "132/132 [==============================] - 4s 31ms/step - loss: 2.9019e-04 - accuracy: 2.3787e-04\n",
            "Epoch 342/500\n",
            "132/132 [==============================] - 4s 31ms/step - loss: 2.6372e-04 - accuracy: 2.3787e-04\n",
            "Epoch 343/500\n",
            "132/132 [==============================] - 4s 31ms/step - loss: 2.6342e-04 - accuracy: 2.3787e-04\n",
            "Epoch 344/500\n",
            "132/132 [==============================] - 4s 31ms/step - loss: 2.8281e-04 - accuracy: 2.3787e-04\n",
            "Epoch 345/500\n",
            "132/132 [==============================] - 4s 31ms/step - loss: 2.8030e-04 - accuracy: 2.3787e-04\n",
            "Epoch 346/500\n",
            "132/132 [==============================] - 4s 31ms/step - loss: 2.7195e-04 - accuracy: 2.3787e-04\n",
            "Epoch 347/500\n",
            "132/132 [==============================] - 4s 31ms/step - loss: 3.3607e-04 - accuracy: 2.3787e-04\n",
            "Epoch 348/500\n",
            "132/132 [==============================] - 4s 31ms/step - loss: 2.5915e-04 - accuracy: 2.3787e-04\n",
            "Epoch 349/500\n",
            "132/132 [==============================] - 4s 31ms/step - loss: 2.5446e-04 - accuracy: 2.3787e-04\n",
            "Epoch 350/500\n",
            "132/132 [==============================] - 4s 31ms/step - loss: 2.6260e-04 - accuracy: 2.3787e-04\n",
            "Epoch 351/500\n",
            "132/132 [==============================] - 4s 31ms/step - loss: 2.4134e-04 - accuracy: 2.3787e-04\n",
            "Epoch 352/500\n",
            "132/132 [==============================] - 4s 31ms/step - loss: 2.7807e-04 - accuracy: 2.3787e-04\n",
            "Epoch 353/500\n",
            "132/132 [==============================] - 4s 31ms/step - loss: 2.6884e-04 - accuracy: 2.3787e-04\n",
            "Epoch 354/500\n",
            "132/132 [==============================] - 4s 31ms/step - loss: 2.7564e-04 - accuracy: 2.3787e-04\n",
            "Epoch 355/500\n",
            "132/132 [==============================] - 4s 31ms/step - loss: 2.8061e-04 - accuracy: 2.3787e-04\n",
            "Epoch 356/500\n",
            "132/132 [==============================] - 4s 31ms/step - loss: 2.4924e-04 - accuracy: 2.3787e-04\n",
            "Epoch 357/500\n",
            "132/132 [==============================] - 4s 31ms/step - loss: 2.5983e-04 - accuracy: 2.3787e-04\n",
            "Epoch 358/500\n",
            "132/132 [==============================] - 4s 31ms/step - loss: 2.8680e-04 - accuracy: 2.3787e-04\n",
            "Epoch 359/500\n",
            "132/132 [==============================] - 4s 31ms/step - loss: 3.1412e-04 - accuracy: 2.3787e-04\n",
            "Epoch 360/500\n",
            "132/132 [==============================] - 4s 31ms/step - loss: 2.6620e-04 - accuracy: 2.3787e-04\n",
            "Epoch 361/500\n",
            "132/132 [==============================] - 4s 31ms/step - loss: 2.6461e-04 - accuracy: 2.3787e-04\n",
            "Epoch 362/500\n",
            "132/132 [==============================] - 4s 31ms/step - loss: 2.6195e-04 - accuracy: 2.3787e-04\n",
            "Epoch 363/500\n",
            "132/132 [==============================] - 4s 31ms/step - loss: 2.4878e-04 - accuracy: 2.3787e-04\n",
            "Epoch 364/500\n",
            "132/132 [==============================] - 4s 31ms/step - loss: 2.6520e-04 - accuracy: 2.3787e-04\n",
            "Epoch 365/500\n",
            "132/132 [==============================] - 4s 31ms/step - loss: 2.3541e-04 - accuracy: 2.3787e-04\n",
            "Epoch 366/500\n",
            "132/132 [==============================] - 4s 31ms/step - loss: 2.8249e-04 - accuracy: 2.3787e-04\n",
            "Epoch 367/500\n",
            "132/132 [==============================] - 4s 31ms/step - loss: 2.4236e-04 - accuracy: 2.3787e-04\n",
            "Epoch 368/500\n",
            "132/132 [==============================] - 4s 31ms/step - loss: 2.8722e-04 - accuracy: 2.3787e-04\n",
            "Epoch 369/500\n",
            "132/132 [==============================] - 4s 31ms/step - loss: 2.5007e-04 - accuracy: 2.3787e-04\n",
            "Epoch 370/500\n",
            "132/132 [==============================] - 4s 31ms/step - loss: 2.6702e-04 - accuracy: 2.3787e-04\n",
            "Epoch 371/500\n",
            "132/132 [==============================] - 4s 31ms/step - loss: 2.6759e-04 - accuracy: 2.3787e-04\n",
            "Epoch 372/500\n",
            "132/132 [==============================] - 4s 31ms/step - loss: 2.5157e-04 - accuracy: 2.3787e-04\n",
            "Epoch 373/500\n",
            "132/132 [==============================] - 4s 31ms/step - loss: 2.6807e-04 - accuracy: 2.3787e-04\n",
            "Epoch 374/500\n",
            "132/132 [==============================] - 4s 31ms/step - loss: 2.6100e-04 - accuracy: 2.3787e-04\n",
            "Epoch 375/500\n",
            "132/132 [==============================] - 4s 31ms/step - loss: 2.6746e-04 - accuracy: 2.3787e-04\n",
            "Epoch 376/500\n",
            "132/132 [==============================] - 4s 31ms/step - loss: 2.7516e-04 - accuracy: 2.3787e-04\n",
            "Epoch 377/500\n",
            "132/132 [==============================] - 4s 31ms/step - loss: 2.6071e-04 - accuracy: 2.3787e-04\n",
            "Epoch 378/500\n",
            "132/132 [==============================] - 4s 31ms/step - loss: 2.5307e-04 - accuracy: 2.3787e-04\n",
            "Epoch 379/500\n",
            "132/132 [==============================] - 4s 31ms/step - loss: 2.5684e-04 - accuracy: 2.3787e-04\n",
            "Epoch 380/500\n",
            "132/132 [==============================] - 4s 31ms/step - loss: 2.4909e-04 - accuracy: 2.3787e-04\n",
            "Epoch 381/500\n",
            "132/132 [==============================] - 4s 31ms/step - loss: 2.6550e-04 - accuracy: 2.3787e-04\n",
            "Epoch 382/500\n",
            "132/132 [==============================] - 4s 31ms/step - loss: 2.4111e-04 - accuracy: 2.3787e-04\n",
            "Epoch 383/500\n",
            "132/132 [==============================] - 4s 31ms/step - loss: 2.4589e-04 - accuracy: 2.3787e-04\n",
            "Epoch 384/500\n",
            "132/132 [==============================] - 4s 31ms/step - loss: 2.4567e-04 - accuracy: 2.3787e-04\n",
            "Epoch 385/500\n",
            "132/132 [==============================] - 4s 31ms/step - loss: 2.6964e-04 - accuracy: 2.3787e-04\n",
            "Epoch 386/500\n",
            "132/132 [==============================] - 4s 31ms/step - loss: 2.7892e-04 - accuracy: 2.3787e-04\n",
            "Epoch 387/500\n",
            "132/132 [==============================] - 4s 31ms/step - loss: 2.8356e-04 - accuracy: 2.3787e-04\n",
            "Epoch 388/500\n",
            "132/132 [==============================] - 4s 31ms/step - loss: 2.5591e-04 - accuracy: 2.3787e-04\n",
            "Epoch 389/500\n",
            "132/132 [==============================] - 4s 31ms/step - loss: 2.6073e-04 - accuracy: 2.3787e-04\n",
            "Epoch 390/500\n",
            "132/132 [==============================] - 4s 32ms/step - loss: 2.5450e-04 - accuracy: 2.3787e-04\n",
            "Epoch 391/500\n",
            "132/132 [==============================] - 4s 32ms/step - loss: 2.5134e-04 - accuracy: 2.3787e-04\n",
            "Epoch 392/500\n",
            "132/132 [==============================] - 4s 31ms/step - loss: 2.6321e-04 - accuracy: 2.3787e-04\n",
            "Epoch 393/500\n",
            "132/132 [==============================] - 4s 31ms/step - loss: 2.6874e-04 - accuracy: 2.3787e-04\n",
            "Epoch 394/500\n",
            "132/132 [==============================] - 4s 31ms/step - loss: 2.5776e-04 - accuracy: 2.3787e-04\n",
            "Epoch 395/500\n",
            "132/132 [==============================] - 4s 31ms/step - loss: 2.7215e-04 - accuracy: 2.3787e-04\n",
            "Epoch 396/500\n",
            "132/132 [==============================] - 4s 31ms/step - loss: 2.8147e-04 - accuracy: 2.3787e-04\n",
            "Epoch 397/500\n",
            "132/132 [==============================] - 4s 31ms/step - loss: 2.6749e-04 - accuracy: 2.3787e-04\n",
            "Epoch 398/500\n",
            "132/132 [==============================] - 4s 31ms/step - loss: 2.5532e-04 - accuracy: 2.3787e-04\n",
            "Epoch 399/500\n",
            "132/132 [==============================] - 4s 31ms/step - loss: 2.3856e-04 - accuracy: 2.3787e-04\n",
            "Epoch 400/500\n",
            "132/132 [==============================] - 4s 31ms/step - loss: 2.6658e-04 - accuracy: 2.3787e-04\n",
            "Epoch 401/500\n",
            "132/132 [==============================] - 4s 31ms/step - loss: 2.7529e-04 - accuracy: 2.3787e-04\n",
            "Epoch 402/500\n",
            "132/132 [==============================] - 4s 31ms/step - loss: 2.5732e-04 - accuracy: 2.3787e-04\n",
            "Epoch 403/500\n",
            "132/132 [==============================] - 4s 31ms/step - loss: 2.4559e-04 - accuracy: 2.3787e-04\n",
            "Epoch 404/500\n",
            "132/132 [==============================] - 4s 31ms/step - loss: 2.4941e-04 - accuracy: 2.3787e-04\n",
            "Epoch 405/500\n",
            "132/132 [==============================] - 4s 31ms/step - loss: 2.4475e-04 - accuracy: 2.3787e-04\n",
            "Epoch 406/500\n",
            "132/132 [==============================] - 4s 31ms/step - loss: 2.5484e-04 - accuracy: 2.3787e-04\n",
            "Epoch 407/500\n",
            "132/132 [==============================] - 4s 31ms/step - loss: 2.5183e-04 - accuracy: 2.3787e-04\n",
            "Epoch 408/500\n",
            "132/132 [==============================] - 4s 32ms/step - loss: 2.4982e-04 - accuracy: 2.3787e-04\n",
            "Epoch 409/500\n",
            "132/132 [==============================] - 4s 31ms/step - loss: 2.6904e-04 - accuracy: 2.3787e-04\n",
            "Epoch 410/500\n",
            "132/132 [==============================] - 4s 31ms/step - loss: 2.6528e-04 - accuracy: 2.3787e-04\n",
            "Epoch 411/500\n",
            "132/132 [==============================] - 4s 32ms/step - loss: 2.6723e-04 - accuracy: 2.3787e-04\n",
            "Epoch 412/500\n",
            "132/132 [==============================] - 4s 31ms/step - loss: 2.3764e-04 - accuracy: 2.3787e-04\n",
            "Epoch 413/500\n",
            "132/132 [==============================] - 4s 31ms/step - loss: 2.6034e-04 - accuracy: 2.3787e-04\n",
            "Epoch 414/500\n",
            "132/132 [==============================] - 4s 32ms/step - loss: 2.8033e-04 - accuracy: 2.3787e-04\n",
            "Epoch 415/500\n",
            "132/132 [==============================] - 4s 31ms/step - loss: 2.4447e-04 - accuracy: 2.3787e-04\n",
            "Epoch 416/500\n",
            "132/132 [==============================] - 4s 31ms/step - loss: 2.6725e-04 - accuracy: 2.3787e-04\n",
            "Epoch 417/500\n",
            "132/132 [==============================] - 4s 31ms/step - loss: 2.7475e-04 - accuracy: 2.3787e-04\n",
            "Epoch 418/500\n",
            "132/132 [==============================] - 4s 32ms/step - loss: 2.4938e-04 - accuracy: 2.3787e-04\n",
            "Epoch 419/500\n",
            "132/132 [==============================] - 4s 31ms/step - loss: 2.5413e-04 - accuracy: 2.3787e-04\n",
            "Epoch 420/500\n",
            "132/132 [==============================] - 4s 32ms/step - loss: 2.5155e-04 - accuracy: 2.3787e-04\n",
            "Epoch 421/500\n",
            "132/132 [==============================] - 4s 31ms/step - loss: 2.8045e-04 - accuracy: 2.3787e-04\n",
            "Epoch 422/500\n",
            "132/132 [==============================] - 4s 31ms/step - loss: 2.5781e-04 - accuracy: 2.3787e-04\n",
            "Epoch 423/500\n",
            "132/132 [==============================] - 4s 31ms/step - loss: 2.6765e-04 - accuracy: 2.3787e-04\n",
            "Epoch 424/500\n",
            "132/132 [==============================] - 4s 31ms/step - loss: 2.5771e-04 - accuracy: 2.3787e-04\n",
            "Epoch 425/500\n",
            "132/132 [==============================] - 4s 31ms/step - loss: 2.5880e-04 - accuracy: 2.3787e-04\n",
            "Epoch 426/500\n",
            "132/132 [==============================] - 4s 31ms/step - loss: 2.5623e-04 - accuracy: 2.3787e-04\n",
            "Epoch 427/500\n",
            "132/132 [==============================] - 4s 31ms/step - loss: 2.5375e-04 - accuracy: 2.3787e-04\n",
            "Epoch 428/500\n",
            "132/132 [==============================] - 4s 31ms/step - loss: 2.8994e-04 - accuracy: 2.3787e-04\n",
            "Epoch 429/500\n",
            "132/132 [==============================] - 4s 31ms/step - loss: 2.4966e-04 - accuracy: 2.3787e-04\n",
            "Epoch 430/500\n",
            "132/132 [==============================] - 4s 31ms/step - loss: 2.6590e-04 - accuracy: 2.3787e-04\n",
            "Epoch 431/500\n",
            "132/132 [==============================] - 4s 31ms/step - loss: 2.5717e-04 - accuracy: 2.3787e-04\n",
            "Epoch 432/500\n",
            "132/132 [==============================] - 4s 31ms/step - loss: 2.4708e-04 - accuracy: 2.3787e-04\n",
            "Epoch 433/500\n",
            "132/132 [==============================] - 4s 31ms/step - loss: 2.5375e-04 - accuracy: 2.3787e-04\n",
            "Epoch 434/500\n",
            "132/132 [==============================] - 4s 31ms/step - loss: 2.3788e-04 - accuracy: 2.3787e-04\n",
            "Epoch 435/500\n",
            "132/132 [==============================] - 4s 31ms/step - loss: 2.5145e-04 - accuracy: 2.3787e-04\n",
            "Epoch 436/500\n",
            "132/132 [==============================] - 4s 31ms/step - loss: 2.3301e-04 - accuracy: 2.3787e-04\n",
            "Epoch 437/500\n",
            "132/132 [==============================] - 4s 31ms/step - loss: 2.6554e-04 - accuracy: 2.3787e-04\n",
            "Epoch 438/500\n",
            "132/132 [==============================] - 4s 31ms/step - loss: 2.5949e-04 - accuracy: 2.3787e-04\n",
            "Epoch 439/500\n",
            "132/132 [==============================] - 4s 31ms/step - loss: 2.4783e-04 - accuracy: 2.3787e-04\n",
            "Epoch 440/500\n",
            "132/132 [==============================] - 4s 31ms/step - loss: 2.6303e-04 - accuracy: 2.3787e-04\n",
            "Epoch 441/500\n",
            "132/132 [==============================] - 4s 31ms/step - loss: 2.3605e-04 - accuracy: 2.3787e-04\n",
            "Epoch 442/500\n",
            "132/132 [==============================] - 4s 31ms/step - loss: 2.5267e-04 - accuracy: 2.3787e-04\n",
            "Epoch 443/500\n",
            "132/132 [==============================] - 4s 31ms/step - loss: 2.4053e-04 - accuracy: 2.3787e-04\n",
            "Epoch 444/500\n",
            "132/132 [==============================] - 4s 31ms/step - loss: 2.5512e-04 - accuracy: 2.3787e-04\n",
            "Epoch 445/500\n",
            "132/132 [==============================] - 4s 31ms/step - loss: 2.7146e-04 - accuracy: 2.3787e-04\n",
            "Epoch 446/500\n",
            "132/132 [==============================] - 4s 31ms/step - loss: 2.4029e-04 - accuracy: 2.3787e-04\n",
            "Epoch 447/500\n",
            "132/132 [==============================] - 4s 31ms/step - loss: 2.4691e-04 - accuracy: 2.3787e-04\n",
            "Epoch 448/500\n",
            "132/132 [==============================] - 4s 31ms/step - loss: 2.5827e-04 - accuracy: 2.3787e-04\n",
            "Epoch 449/500\n",
            "132/132 [==============================] - 4s 31ms/step - loss: 2.5676e-04 - accuracy: 2.3787e-04\n",
            "Epoch 450/500\n",
            "132/132 [==============================] - 4s 31ms/step - loss: 2.5928e-04 - accuracy: 2.3787e-04\n",
            "Epoch 451/500\n",
            "132/132 [==============================] - 4s 31ms/step - loss: 2.3240e-04 - accuracy: 2.3787e-04\n",
            "Epoch 452/500\n",
            "132/132 [==============================] - 4s 31ms/step - loss: 2.6460e-04 - accuracy: 2.3787e-04\n",
            "Epoch 453/500\n",
            "132/132 [==============================] - 4s 31ms/step - loss: 2.4102e-04 - accuracy: 2.3787e-04\n",
            "Epoch 454/500\n",
            "132/132 [==============================] - 4s 31ms/step - loss: 2.4598e-04 - accuracy: 2.3787e-04\n",
            "Epoch 455/500\n",
            "132/132 [==============================] - 4s 31ms/step - loss: 2.4695e-04 - accuracy: 2.3787e-04\n",
            "Epoch 456/500\n",
            "132/132 [==============================] - 4s 31ms/step - loss: 2.6286e-04 - accuracy: 2.3787e-04\n",
            "Epoch 457/500\n",
            "132/132 [==============================] - 4s 31ms/step - loss: 2.5119e-04 - accuracy: 2.3787e-04\n",
            "Epoch 458/500\n",
            "132/132 [==============================] - 4s 31ms/step - loss: 2.4198e-04 - accuracy: 2.3787e-04\n",
            "Epoch 459/500\n",
            "132/132 [==============================] - 4s 31ms/step - loss: 2.6595e-04 - accuracy: 2.3787e-04\n",
            "Epoch 460/500\n",
            "132/132 [==============================] - 4s 31ms/step - loss: 2.4829e-04 - accuracy: 2.3787e-04\n",
            "Epoch 461/500\n",
            "132/132 [==============================] - 4s 31ms/step - loss: 2.4329e-04 - accuracy: 2.3787e-04\n",
            "Epoch 462/500\n",
            "132/132 [==============================] - 4s 31ms/step - loss: 2.7661e-04 - accuracy: 2.3787e-04\n",
            "Epoch 463/500\n",
            "132/132 [==============================] - 4s 31ms/step - loss: 2.6858e-04 - accuracy: 2.3787e-04\n",
            "Epoch 464/500\n",
            "132/132 [==============================] - 4s 31ms/step - loss: 2.6462e-04 - accuracy: 2.3787e-04\n",
            "Epoch 465/500\n",
            "132/132 [==============================] - 4s 31ms/step - loss: 2.5704e-04 - accuracy: 2.3787e-04\n",
            "Epoch 466/500\n",
            "132/132 [==============================] - 4s 32ms/step - loss: 2.6186e-04 - accuracy: 2.3787e-04\n",
            "Epoch 467/500\n",
            "132/132 [==============================] - 4s 31ms/step - loss: 2.4571e-04 - accuracy: 2.3787e-04\n",
            "Epoch 468/500\n",
            "132/132 [==============================] - 4s 31ms/step - loss: 2.4742e-04 - accuracy: 2.3787e-04\n",
            "Epoch 469/500\n",
            "132/132 [==============================] - 4s 31ms/step - loss: 2.5738e-04 - accuracy: 2.3787e-04\n",
            "Epoch 470/500\n",
            "132/132 [==============================] - 4s 31ms/step - loss: 2.6151e-04 - accuracy: 2.3787e-04\n",
            "Epoch 471/500\n",
            "132/132 [==============================] - 4s 31ms/step - loss: 2.5932e-04 - accuracy: 2.3787e-04\n",
            "Epoch 472/500\n",
            "132/132 [==============================] - 4s 31ms/step - loss: 2.5877e-04 - accuracy: 2.3787e-04\n",
            "Epoch 473/500\n",
            "132/132 [==============================] - 4s 31ms/step - loss: 2.4188e-04 - accuracy: 2.3787e-04\n",
            "Epoch 474/500\n",
            "132/132 [==============================] - 4s 31ms/step - loss: 2.3768e-04 - accuracy: 2.3787e-04\n",
            "Epoch 475/500\n",
            "132/132 [==============================] - 4s 31ms/step - loss: 2.5051e-04 - accuracy: 2.3787e-04\n",
            "Epoch 476/500\n",
            "132/132 [==============================] - 4s 31ms/step - loss: 2.5949e-04 - accuracy: 2.3787e-04\n",
            "Epoch 477/500\n",
            "132/132 [==============================] - 4s 31ms/step - loss: 2.6023e-04 - accuracy: 2.3787e-04\n",
            "Epoch 478/500\n",
            "132/132 [==============================] - 4s 31ms/step - loss: 2.3842e-04 - accuracy: 2.3787e-04\n",
            "Epoch 479/500\n",
            "132/132 [==============================] - 4s 31ms/step - loss: 2.5566e-04 - accuracy: 2.3787e-04\n",
            "Epoch 480/500\n",
            "132/132 [==============================] - 4s 31ms/step - loss: 2.4798e-04 - accuracy: 2.3787e-04\n",
            "Epoch 481/500\n",
            "132/132 [==============================] - 4s 31ms/step - loss: 2.6196e-04 - accuracy: 2.3787e-04\n",
            "Epoch 482/500\n",
            "132/132 [==============================] - 4s 31ms/step - loss: 2.6403e-04 - accuracy: 2.3787e-04\n",
            "Epoch 483/500\n",
            "132/132 [==============================] - 4s 31ms/step - loss: 2.5921e-04 - accuracy: 2.3787e-04\n",
            "Epoch 484/500\n",
            "132/132 [==============================] - 4s 31ms/step - loss: 2.5088e-04 - accuracy: 2.3787e-04\n",
            "Epoch 485/500\n",
            "132/132 [==============================] - 4s 31ms/step - loss: 2.6446e-04 - accuracy: 2.3787e-04\n",
            "Epoch 486/500\n",
            "132/132 [==============================] - 4s 31ms/step - loss: 2.5941e-04 - accuracy: 2.3787e-04\n",
            "Epoch 487/500\n",
            "132/132 [==============================] - 4s 31ms/step - loss: 2.4148e-04 - accuracy: 2.3787e-04\n",
            "Epoch 488/500\n",
            "132/132 [==============================] - 4s 31ms/step - loss: 2.4825e-04 - accuracy: 2.3787e-04\n",
            "Epoch 489/500\n",
            "132/132 [==============================] - 4s 31ms/step - loss: 2.4865e-04 - accuracy: 2.3787e-04\n",
            "Epoch 490/500\n",
            "132/132 [==============================] - 4s 31ms/step - loss: 2.3481e-04 - accuracy: 2.3787e-04\n",
            "Epoch 491/500\n",
            "132/132 [==============================] - 4s 32ms/step - loss: 2.4775e-04 - accuracy: 2.3787e-04\n",
            "Epoch 492/500\n",
            "132/132 [==============================] - 4s 31ms/step - loss: 2.4804e-04 - accuracy: 2.3787e-04\n",
            "Epoch 493/500\n",
            "132/132 [==============================] - 4s 31ms/step - loss: 2.6591e-04 - accuracy: 2.3787e-04\n",
            "Epoch 494/500\n",
            "132/132 [==============================] - 4s 31ms/step - loss: 2.3674e-04 - accuracy: 2.3787e-04\n",
            "Epoch 495/500\n",
            "132/132 [==============================] - 4s 31ms/step - loss: 2.4444e-04 - accuracy: 2.3787e-04\n",
            "Epoch 496/500\n",
            "132/132 [==============================] - 4s 31ms/step - loss: 2.3207e-04 - accuracy: 2.3787e-04\n",
            "Epoch 497/500\n",
            "132/132 [==============================] - 4s 31ms/step - loss: 2.4488e-04 - accuracy: 2.3787e-04\n",
            "Epoch 498/500\n",
            "132/132 [==============================] - 4s 31ms/step - loss: 2.4400e-04 - accuracy: 2.3787e-04\n",
            "Epoch 499/500\n",
            "132/132 [==============================] - 4s 31ms/step - loss: 2.3409e-04 - accuracy: 2.3787e-04\n",
            "Epoch 500/500\n",
            "132/132 [==============================] - 4s 31ms/step - loss: 2.5330e-04 - accuracy: 2.3787e-04\n"
          ],
          "name": "stdout"
        },
        {
          "output_type": "execute_result",
          "data": {
            "text/plain": [
              "<tensorflow.python.keras.callbacks.History at 0x7f669a9cfd30>"
            ]
          },
          "metadata": {
            "tags": []
          },
          "execution_count": 272
        }
      ]
    },
    {
      "cell_type": "markdown",
      "metadata": {
        "id": "seEYqIS9NAPB"
      },
      "source": [
        "## Part 3 - Making the predictions and visualising the results "
      ]
    },
    {
      "cell_type": "markdown",
      "metadata": {
        "id": "OVzy1vXYNAPB"
      },
      "source": [
        "### Getting the real stock price  "
      ]
    },
    {
      "cell_type": "code",
      "metadata": {
        "id": "9Lxwk3h7NAPG",
        "colab": {
          "base_uri": "https://localhost:8080/"
        },
        "outputId": "c92ff2aa-e37f-42a3-a9c0-8484d6c6f321"
      },
      "source": [
        "real_stock_price = testing_set\n",
        "len(real_stock_price)\n",
        "# plot(real_stock_price)"
      ],
      "execution_count": 273,
      "outputs": [
        {
          "output_type": "execute_result",
          "data": {
            "text/plain": [
              "21"
            ]
          },
          "metadata": {
            "tags": []
          },
          "execution_count": 273
        }
      ]
    },
    {
      "cell_type": "code",
      "metadata": {
        "id": "ngBs1KDUNAPI",
        "colab": {
          "base_uri": "https://localhost:8080/"
        },
        "outputId": "90313f4c-3bd1-4571-cd4e-a75f4f403e11"
      },
      "source": [
        "dataset.iloc[0:4284, 8:9].shape"
      ],
      "execution_count": 274,
      "outputs": [
        {
          "output_type": "execute_result",
          "data": {
            "text/plain": [
              "(4284, 1)"
            ]
          },
          "metadata": {
            "tags": []
          },
          "execution_count": 274
        }
      ]
    },
    {
      "cell_type": "code",
      "metadata": {
        "id": "fyoTw4hSNAPK",
        "colab": {
          "base_uri": "https://localhost:8080/"
        },
        "outputId": "f528e902-ce19-4299-d3c1-ccc83c6f929b"
      },
      "source": [
        "dataset['Close'].shape"
      ],
      "execution_count": 275,
      "outputs": [
        {
          "output_type": "execute_result",
          "data": {
            "text/plain": [
              "(4305,)"
            ]
          },
          "metadata": {
            "tags": []
          },
          "execution_count": 275
        }
      ]
    },
    {
      "cell_type": "code",
      "metadata": {
        "id": "12esKZzBNAPL"
      },
      "source": [
        "dataset_total = pd.concat((dataset.iloc[0:4284, 8:9],dataset.iloc[4284:, 8:9]), axis = 0)"
      ],
      "execution_count": 276,
      "outputs": []
    },
    {
      "cell_type": "code",
      "metadata": {
        "id": "51NKP57ZNAPN",
        "colab": {
          "base_uri": "https://localhost:8080/"
        },
        "outputId": "7b549727-2d20-4a9b-8386-a0247d60a6bf"
      },
      "source": [
        "type(dataset_total['Close'])\n"
      ],
      "execution_count": 277,
      "outputs": [
        {
          "output_type": "execute_result",
          "data": {
            "text/plain": [
              "pandas.core.series.Series"
            ]
          },
          "metadata": {
            "tags": []
          },
          "execution_count": 277
        }
      ]
    },
    {
      "cell_type": "code",
      "metadata": {
        "id": "f1cd2t7pNAPQ",
        "colab": {
          "base_uri": "https://localhost:8080/"
        },
        "outputId": "a70c07f1-6169-43b0-c7d6-e2de124d32f3"
      },
      "source": [
        "type(dataset_total)"
      ],
      "execution_count": 278,
      "outputs": [
        {
          "output_type": "execute_result",
          "data": {
            "text/plain": [
              "pandas.core.frame.DataFrame"
            ]
          },
          "metadata": {
            "tags": []
          },
          "execution_count": 278
        }
      ]
    },
    {
      "cell_type": "code",
      "metadata": {
        "id": "JRhM6WsmNAPT",
        "colab": {
          "base_uri": "https://localhost:8080/"
        },
        "outputId": "31159705-c216-49d4-a0b6-9b72ebbe837d"
      },
      "source": [
        "dataset['Close'][len(dataset) - len(real_stock_price) - 80:].values"
      ],
      "execution_count": 279,
      "outputs": [
        {
          "output_type": "execute_result",
          "data": {
            "text/plain": [
              "array([5426.15, 5561.75, 5475.75, 5502.2 , 5726.2 , 5714.4 , 5897.35,\n",
              "       5896.  , 5886.5 , 5755.35, 5762.3 , 5754.9 , 5678.7 , 5838.3 ,\n",
              "       5803.1 , 5948.45, 5932.1 , 6123.6 , 6226.75, 6044.4 , 6002.35,\n",
              "       5955.65, 5988.85, 5771.75, 5801.3 , 5875.35, 5919.5 , 5867.5 ,\n",
              "       6130.85, 6003.4 , 6065.95, 6000.7 , 6043.3 , 6282.8 , 6185.15,\n",
              "       6265.4 , 6262.75, 6165.2 , 6358.95, 6526.25, 6555.75, 6679.  ,\n",
              "       6608.9 , 6649.2 , 6730.3 , 6731.65, 6588.2 , 6768.4 , 6893.1 ,\n",
              "       6990.3 , 6974.7 , 6973.  , 7082.5 , 7109.95, 7008.65, 7098.  ,\n",
              "       7104.1 , 6839.95, 6905.65, 6920.75, 7072.6 , 7190.1 , 7209.15,\n",
              "       7224.  , 7215.25, 7231.65, 7193.6 , 7128.85, 7052.8 , 7057.95,\n",
              "       7085.85, 6964.75, 6626.95, 6440.55, 6501.3 , 6297.7 , 6497.7 ,\n",
              "       6703.  , 6742.75, 6743.45, 6796.3 , 6818.85, 6892.4 , 7046.9 ,\n",
              "       7079.85, 7062.4 , 7136.65, 7032.9 , 7002.35, 6892.6 , 6894.9 ,\n",
              "       6851.95, 6844.6 , 6861.85, 6811.55, 7103.25, 7054.8 , 7158.4 ,\n",
              "       7186.05, 7117.7 , 6965.15])"
            ]
          },
          "metadata": {
            "tags": []
          },
          "execution_count": 279
        }
      ]
    },
    {
      "cell_type": "code",
      "metadata": {
        "id": "ghJZKmZsNAPV",
        "colab": {
          "base_uri": "https://localhost:8080/"
        },
        "outputId": "46743897-6c23-487f-8608-a76e3ec0228d"
      },
      "source": [
        "dataset_total[len(dataset_total) - len(real_stock_price)  - 80:].values"
      ],
      "execution_count": 280,
      "outputs": [
        {
          "output_type": "execute_result",
          "data": {
            "text/plain": [
              "array([[5426.15],\n",
              "       [5561.75],\n",
              "       [5475.75],\n",
              "       [5502.2 ],\n",
              "       [5726.2 ],\n",
              "       [5714.4 ],\n",
              "       [5897.35],\n",
              "       [5896.  ],\n",
              "       [5886.5 ],\n",
              "       [5755.35],\n",
              "       [5762.3 ],\n",
              "       [5754.9 ],\n",
              "       [5678.7 ],\n",
              "       [5838.3 ],\n",
              "       [5803.1 ],\n",
              "       [5948.45],\n",
              "       [5932.1 ],\n",
              "       [6123.6 ],\n",
              "       [6226.75],\n",
              "       [6044.4 ],\n",
              "       [6002.35],\n",
              "       [5955.65],\n",
              "       [5988.85],\n",
              "       [5771.75],\n",
              "       [5801.3 ],\n",
              "       [5875.35],\n",
              "       [5919.5 ],\n",
              "       [5867.5 ],\n",
              "       [6130.85],\n",
              "       [6003.4 ],\n",
              "       [6065.95],\n",
              "       [6000.7 ],\n",
              "       [6043.3 ],\n",
              "       [6282.8 ],\n",
              "       [6185.15],\n",
              "       [6265.4 ],\n",
              "       [6262.75],\n",
              "       [6165.2 ],\n",
              "       [6358.95],\n",
              "       [6526.25],\n",
              "       [6555.75],\n",
              "       [6679.  ],\n",
              "       [6608.9 ],\n",
              "       [6649.2 ],\n",
              "       [6730.3 ],\n",
              "       [6731.65],\n",
              "       [6588.2 ],\n",
              "       [6768.4 ],\n",
              "       [6893.1 ],\n",
              "       [6990.3 ],\n",
              "       [6974.7 ],\n",
              "       [6973.  ],\n",
              "       [7082.5 ],\n",
              "       [7109.95],\n",
              "       [7008.65],\n",
              "       [7098.  ],\n",
              "       [7104.1 ],\n",
              "       [6839.95],\n",
              "       [6905.65],\n",
              "       [6920.75],\n",
              "       [7072.6 ],\n",
              "       [7190.1 ],\n",
              "       [7209.15],\n",
              "       [7224.  ],\n",
              "       [7215.25],\n",
              "       [7231.65],\n",
              "       [7193.6 ],\n",
              "       [7128.85],\n",
              "       [7052.8 ],\n",
              "       [7057.95],\n",
              "       [7085.85],\n",
              "       [6964.75],\n",
              "       [6626.95],\n",
              "       [6440.55],\n",
              "       [6501.3 ],\n",
              "       [6297.7 ],\n",
              "       [6497.7 ],\n",
              "       [6703.  ],\n",
              "       [6742.75],\n",
              "       [6743.45],\n",
              "       [6796.3 ],\n",
              "       [6818.85],\n",
              "       [6892.4 ],\n",
              "       [7046.9 ],\n",
              "       [7079.85],\n",
              "       [7062.4 ],\n",
              "       [7136.65],\n",
              "       [7032.9 ],\n",
              "       [7002.35],\n",
              "       [6892.6 ],\n",
              "       [6894.9 ],\n",
              "       [6851.95],\n",
              "       [6844.6 ],\n",
              "       [6861.85],\n",
              "       [6811.55],\n",
              "       [7103.25],\n",
              "       [7054.8 ],\n",
              "       [7158.4 ],\n",
              "       [7186.05],\n",
              "       [7117.7 ],\n",
              "       [6965.15]])"
            ]
          },
          "metadata": {
            "tags": []
          },
          "execution_count": 280
        }
      ]
    },
    {
      "cell_type": "markdown",
      "metadata": {
        "id": "bWbltmVWNAPX"
      },
      "source": [
        "### Getting the predicted stock price "
      ]
    },
    {
      "cell_type": "code",
      "metadata": {
        "id": "IStDMW96NAPX",
        "colab": {
          "base_uri": "https://localhost:8080/"
        },
        "outputId": "6cdb7b47-a6ad-41c1-af85-bd28a69c5a8e"
      },
      "source": [
        "# dataset_total = pd.concat((dataset_train['close'], dataset_test['close']), axis = 0)\n",
        "dataset_total = dataset['Close']\n",
        "inputs = dataset_total[len(dataset_total) - len(real_stock_price) - 80:].values\n",
        "inputs = inputs.reshape(-1,1)\n",
        "inputs = sc.transform(inputs)\n",
        "X_test = []\n",
        "for i in range(80, 101):\n",
        "    X_test.append(inputs[i-79:i+1, 0])\n",
        "X_test = np.array(X_test)\n",
        "X_test = np.reshape(X_test, (X_test.shape[0], X_test.shape[1], 1))\n",
        "predicted_stock_price = regressor.predict(X_test)\n",
        "predicted_stock_price = sc.inverse_transform(predicted_stock_price)"
      ],
      "execution_count": 281,
      "outputs": [
        {
          "output_type": "stream",
          "text": [
            "WARNING:tensorflow:5 out of the last 5 calls to <function Model.make_predict_function.<locals>.predict_function at 0x7f66991a2378> triggered tf.function retracing. Tracing is expensive and the excessive number of tracings could be due to (1) creating @tf.function repeatedly in a loop, (2) passing tensors with different shapes, (3) passing Python objects instead of tensors. For (1), please define your @tf.function outside of the loop. For (2), @tf.function has experimental_relax_shapes=True option that relaxes argument shapes that can avoid unnecessary retracing. For (3), please refer to https://www.tensorflow.org/tutorials/customization/performance#python_or_tensor_args and https://www.tensorflow.org/api_docs/python/tf/function for  more details.\n"
          ],
          "name": "stdout"
        }
      ]
    },
    {
      "cell_type": "markdown",
      "metadata": {
        "id": "GMLblvEmNAPZ"
      },
      "source": [
        "## Visualising the results"
      ]
    },
    {
      "cell_type": "code",
      "metadata": {
        "id": "Tc9GNpArNAPa",
        "colab": {
          "base_uri": "https://localhost:8080/",
          "height": 481
        },
        "outputId": "2c1cfe78-5925-49d0-f846-6627580a4761"
      },
      "source": [
        "plt.plot(real_stock_price, color = 'red', label = 'Real Maruti Stock Price')\n",
        "plt.plot(predicted_stock_price, color = 'blue', label = 'Predicted Maruti Stock Price')\n",
        "plt.title('Maruti Stock Price Prediction')\n",
        "plt.xlabel('Time')\n",
        "plt.ylabel('Maruti Stock Price')\n",
        "plt.legend()\n",
        "plt.show()"
      ],
      "execution_count": 282,
      "outputs": [
        {
          "output_type": "display_data",
          "data": {
            "image/png": "[encoded data removed]",
            "text/plain": [
              "<Figure size 748.8x514.8 with 1 Axes>"
            ]
          },
          "metadata": {
            "tags": [],
            "needs_background": "light"
          }
        }
      ]
    },
    {
      "cell_type": "code",
      "metadata": {
        "id": "JeUD-rch3uql"
      },
      "source": [
        "import math\n",
        "from sklearn.metrics import mean_squared_error\n",
        "rmse = math.sqrt(mean_squared_error(real_stock_price, predicted_stock_price))"
      ],
      "execution_count": 283,
      "outputs": []
    },
    {
      "cell_type": "code",
      "metadata": {
        "id": "3N4yRw2J4QEJ",
        "colab": {
          "base_uri": "https://localhost:8080/"
        },
        "outputId": "864fa8b2-92c9-48bc-c2ae-ccd65ed94407"
      },
      "source": [
        "rmse"
      ],
      "execution_count": 284,
      "outputs": [
        {
          "output_type": "execute_result",
          "data": {
            "text/plain": [
              "22.50089383603376"
            ]
          },
          "metadata": {
            "tags": []
          },
          "execution_count": 284
        }
      ]
    },
    {
      "cell_type": "code",
      "metadata": {
        "id": "tW9MmEwH4RNM",
        "colab": {
          "base_uri": "https://localhost:8080/"
        },
        "outputId": "0aa46233-8aad-4418-d523-1ee1a69e19a9"
      },
      "source": [
        "rmse/7000"
      ],
      "execution_count": 285,
      "outputs": [
        {
          "output_type": "execute_result",
          "data": {
            "text/plain": [
              "0.0032144134051476803"
            ]
          },
          "metadata": {
            "tags": []
          },
          "execution_count": 285
        }
      ]
    },
    {
      "cell_type": "code",
      "metadata": {
        "id": "F5QlFT4KXjuY",
        "colab": {
          "base_uri": "https://localhost:8080/"
        },
        "outputId": "7e21308e-3c99-46c6-b443-7c02c09d4db8"
      },
      "source": [
        "rmse"
      ],
      "execution_count": 286,
      "outputs": [
        {
          "output_type": "execute_result",
          "data": {
            "text/plain": [
              "22.50089383603376"
            ]
          },
          "metadata": {
            "tags": []
          },
          "execution_count": 286
        }
      ]
    },
    {
      "cell_type": "code",
      "metadata": {
        "id": "BT44OuTvjsoP",
        "colab": {
          "base_uri": "https://localhost:8080/"
        },
        "outputId": "eb03eb7b-5f7e-48c5-b34b-6203df5c3918"
      },
      "source": [
        "loss = regressor.evaluate(X_train, Y_train, verbose=0)\n",
        "print(loss)\n"
      ],
      "execution_count": 287,
      "outputs": [
        {
          "output_type": "stream",
          "text": [
            "[5.719123510061763e-05, 0.00023786869132891297]\n"
          ],
          "name": "stdout"
        }
      ]
    },
    {
      "cell_type": "code",
      "metadata": {
        "id": "b5mh2KwRk-yY",
        "colab": {
          "base_uri": "https://localhost:8080/"
        },
        "outputId": "9e239daa-2a24-4829-d1d0-d9171d9eed63"
      },
      "source": [
        "9+8"
      ],
      "execution_count": 288,
      "outputs": [
        {
          "output_type": "execute_result",
          "data": {
            "text/plain": [
              "17"
            ]
          },
          "metadata": {
            "tags": []
          },
          "execution_count": 288
        }
      ]
    },
    {
      "cell_type": "code",
      "metadata": {
        "id": "fobVIS2729WB",
        "colab": {
          "base_uri": "https://localhost:8080/"
        },
        "outputId": "f22135e3-53b2-4ab9-b5bb-f1a5457f4ef4"
      },
      "source": [
        "regressor.summary()"
      ],
      "execution_count": 289,
      "outputs": [
        {
          "output_type": "stream",
          "text": [
            "Model: \"sequential_4\"\n",
            "_________________________________________________________________\n",
            "Layer (type)                 Output Shape              Param #   \n",
            "=================================================================\n",
            "lstm_9 (LSTM)                (None, 80, 150)           91200     \n",
            "_________________________________________________________________\n",
            "dropout_17 (Dropout)         (None, 80, 150)           0         \n",
            "_________________________________________________________________\n",
            "gru_8 (GRU)                  (None, 80, 150)           135900    \n",
            "_________________________________________________________________\n",
            "dropout_18 (Dropout)         (None, 80, 150)           0         \n",
            "_________________________________________________________________\n",
            "lstm_10 (LSTM)               (None, 80, 150)           180600    \n",
            "_________________________________________________________________\n",
            "dropout_19 (Dropout)         (None, 80, 150)           0         \n",
            "_________________________________________________________________\n",
            "gru_9 (GRU)                  (None, 80, 150)           135900    \n",
            "_________________________________________________________________\n",
            "dropout_20 (Dropout)         (None, 80, 150)           0         \n",
            "_________________________________________________________________\n",
            "lstm_11 (LSTM)               (None, 150)               180600    \n",
            "_________________________________________________________________\n",
            "dropout_21 (Dropout)         (None, 150)               0         \n",
            "_________________________________________________________________\n",
            "dense_4 (Dense)              (None, 1)                 151       \n",
            "=================================================================\n",
            "Total params: 724,351\n",
            "Trainable params: 724,351\n",
            "Non-trainable params: 0\n",
            "_________________________________________________________________\n"
          ],
          "name": "stdout"
        }
      ]
    },
    {
      "cell_type": "code",
      "metadata": {
        "id": "7KGqpf8EleDB"
      },
      "source": [
        ""
      ],
      "execution_count": 289,
      "outputs": []
    }
  ]
}